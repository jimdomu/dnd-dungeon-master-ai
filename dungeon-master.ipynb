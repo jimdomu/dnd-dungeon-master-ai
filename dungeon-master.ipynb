{
 "cells": [
  {
   "cell_type": "markdown",
   "metadata": {},
   "source": [
    "# Project Info"
   ]
  },
  {
   "cell_type": "markdown",
   "metadata": {},
   "source": [
    "This is the main notebook to design the DnD Dungeon Master"
   ]
  },
  {
   "cell_type": "markdown",
   "metadata": {},
   "source": [
    "Specification from Canvas:\n",
    "\n",
    "Project Requirements\n",
    "\n",
    "World Memory: Implement persistent storage of state for each location. The AI must recognize when players revisit a location and present an updated description reflecting prior actions.\n",
    "\n",
    "Map Generation and Navigation: The AI should create and maintain a coherent map of connected locations, ensuring logical placement and connections.\n",
    "\n",
    "Dynamic Descriptions and Interactions: Generate unique descriptions and manage NPC or item states dynamically, adapting based on player actions.\n",
    "Randomized Location Descriptions and Encounters: When players enter a new location, the AI generates a fresh, random description consistent with nearby areas and may spawn new NPCs or items. This allows each exploration to feel novel and immersive while maintaining a coherent world.\n",
    "\n",
    "Simplified D&D Mechanics: Use a streamlined set of D&D-inspired mechanics (detailed below) to guide the AI’s decisions and narration for combat, exploration, and interactions."
   ]
  },
  {
   "cell_type": "markdown",
   "metadata": {},
   "source": [
    "DnD Simplified Mechanics:\n",
    "\n",
    "NPC Interaction and Combat\n",
    "NPCs have two attributes: Health Points (HP) and Attack Power.\n",
    "Combat: When players engage in combat, each side rolls a virtual 1d6 (a six-sided die) and adds it to their Attack Power to determine damage for that turn.\n",
    "\n",
    "Victory Conditions: The player wins if the NPC’s HP reaches zero, and loses if their own HP does.\n",
    "Skill Checks and Random Outcomes\n",
    "When players attempt a risky action (e.g., unlocking a door), the AI rolls a 1d10 (a ten-sided die) for a skill check.\n",
    "For simple tasks, a roll of 3 or higher succeeds.\n",
    "For challenging tasks, a roll of 6 or higher is needed.\n",
    "Descriptions should vary based on success or failure, giving the interaction a creative touch.\n",
    "\n",
    "Inventory and Simple Item Use\n",
    "Players can pick up and use basic items like keys or healing potions.\n",
    "Items: Each item has a single effect—e.g., a potion heals 10 HP, a key unlocks a specific door.\n",
    "The AI remembers which items have been used or taken to manage inventory without complex tracking.\n",
    "\n",
    "Experience Points and Leveling (Optional)\n",
    "Players can gain Experience Points (XP) for completing significant actions or defeating NPCs.\n",
    "When players reach 50 XP, they \"level up,\" gaining a small HP increase.\n",
    "This provides a sense of progression with minimal complexity."
   ]
  },
  {
   "cell_type": "markdown",
   "metadata": {},
   "source": [
    "State Persistence\n",
    "\n",
    "The AI must track and remember states for each location and NPC to maintain continuity. This includes:\n",
    "\n",
    "Location State: Track if a door is unlocked, a chest is opened, or an item has been taken.\n",
    "\n",
    "NPC Status: Remember if NPCs have been defeated, moved, or interacted with.\n",
    "\n",
    "Inventory: Track items players possess and mark items as “used” once they’re applied (e.g., a used key).\n",
    "\n",
    "Player Stats: Keep player attributes like HP, XP, and inventory status persistent across moves.\n"
   ]
  },
  {
   "cell_type": "markdown",
   "metadata": {},
   "source": [
    "Map Representation\n",
    "\n",
    "The map is a logical grid or node-based structure, where each “node” represents a unique location.\n",
    "\n",
    "Location Connections: Each node includes connections to adjacent locations (e.g., north, south, east, west).\n",
    "\n",
    "Unique Descriptions and Random Encounters: Each time players enter a new node, the AI generates a fresh description that is contextually consistent with nearby areas. The AI may also spawn random NPCs or items, creating an immersive experience while ensuring coherence.\n",
    "\n",
    "NPC and Item Placement: Each node may contain NPCs or items, which the AI can add or remove based on player actions."
   ]
  },
  {
   "cell_type": "markdown",
   "metadata": {},
   "source": [
    "GRADUATE STUDENT:\n",
    "Graduate students are required to implement additional features to expand the AI’s storytelling capabilities:\n",
    "\n",
    "Text-to-Speech (TTS): Add a TTS system to narrate the AI-generated descriptions and interactions, enhancing the immersive experience.\n",
    "\n",
    "Image Generation: Integrate a simple image generation model to create visual representations of locations or key events, adding a visual storytelling element to the text-based game."
   ]
  },
  {
   "cell_type": "markdown",
   "metadata": {},
   "source": [
    "# Keys and Libraries"
   ]
  },
  {
   "cell_type": "markdown",
   "metadata": {},
   "source": [
    "Loading all relevant keys:"
   ]
  },
  {
   "cell_type": "code",
   "execution_count": 82,
   "metadata": {},
   "outputs": [],
   "source": [
    "import os\n",
    "from dotenv import load_dotenv\n",
    "\n",
    "load_dotenv()\n",
    "\n",
    "assert 'OPENAI_API_KEY' in os.environ, \"You will need to set an OPENAI_API_KEY\"\n",
    "#assert 'LANGCHAIN_API_KEY' in os.environ, \"You will need to set an LANGCHAIN_API_KEY\""
   ]
  },
  {
   "cell_type": "markdown",
   "metadata": {},
   "source": [
    "Importing all relevant libraries:"
   ]
  },
  {
   "cell_type": "code",
   "execution_count": 199,
   "metadata": {},
   "outputs": [],
   "source": [
    "from langchain.agents import create_openai_functions_agent\n",
    "from langchain_openai import ChatOpenAI\n",
    "from langchain_core.tools import tool\n",
    "from langchain.chains import LLMMathChain\n",
    "from langchain.prompts import PromptTemplate\n",
    "from langchain import hub\n",
    "from langchain.agents import AgentExecutor\n",
    "from langchain_core.messages import AIMessage, HumanMessage\n",
    "\n",
    "from IPython.display import clear_output # FOR CLEAN OUTPUTS ON NOTEBOOK\n",
    "\n",
    "from openai import OpenAI # FOR TTS\n",
    "\n",
    "import random\n",
    "import numpy as np\n",
    "import json"
   ]
  },
  {
   "cell_type": "markdown",
   "metadata": {},
   "source": [
    "# Player Class"
   ]
  },
  {
   "cell_type": "code",
   "execution_count": null,
   "metadata": {},
   "outputs": [],
   "source": [
    "class Player:\n",
    "    def __init__(self, name, max_hp, xp, level):\n",
    "        self.name = name\n",
    "        self.max_hp = max_hp\n",
    "        self.hp = max_hp\n",
    "        self.xp = xp\n",
    "        self.level = level\n",
    "        self.inventory = []\n",
    "\n",
    "    def take_damage(self, damage):\n",
    "        self.hp -= damage\n",
    "        if self.hp < 0:\n",
    "            self.hp = 0\n",
    "\n",
    "    def heal(self, amount):\n",
    "        if self.has_item(\"Potion\") or self.has_item(\"Health Potion\") or self.has_item(\"Healing Potion\"):\n",
    "            self.hp = min(self.hp + amount, self.max_hp)\n",
    "            self.remove_from_inventory(\"Potion\")\n",
    "            self.remove_from_inventory(\"Health Potion\")\n",
    "            self.remove_from_inventory(\"Healing Potion\")\n",
    "        else:\n",
    "            print(\"You don't have a healing potion.\")\n",
    "\n",
    "    def gain_xp(self, xp):\n",
    "        self.xp += xp\n",
    "        if self.xp >= 100:  # Adjust the XP threshold as needed\n",
    "            self.level += 1\n",
    "            self.max_hp += 10  # Increase max HP with each level\n",
    "            self.xp -= 100\n",
    "\n",
    "    def add_to_inventory(self, item):\n",
    "        self.inventory.append(item)\n",
    "\n",
    "    def remove_from_inventory(self, item):\n",
    "        if item in self.inventory:\n",
    "            self.inventory.remove(item)\n",
    "        else:\n",
    "            print(\"Item not in inventory\")\n",
    "\n",
    "    def has_item(self, item):\n",
    "        return item in self.inventory\n",
    "\n",
    "# Initialize the player\n",
    "player = Player(\"Adventurer\", 100, 0, 1)\n",
    "\n",
    "player.add_to_inventory(\"Sword\")\n",
    "player.add_to_inventory(\"Healing Potion\")\n",
    "\n",
    "# Example usage:\n",
    "# player.take_damage(20)\n",
    "# print(f\"Player's HP: {player.hp}\")\n",
    "\n",
    "# player.heal(30)\n",
    "# print(f\"Player's HP: {player.hp}\")\n",
    "\n",
    "# player.gain_xp(50)\n",
    "# print(f\"Player's level: {player.level}\")\n",
    "\n",
    "# print(f\"Player's inventory: {player.inventory}\")"
   ]
  },
  {
   "cell_type": "markdown",
   "metadata": {},
   "source": [
    "# Tools"
   ]
  },
  {
   "cell_type": "code",
   "execution_count": null,
   "metadata": {},
   "outputs": [],
   "source": [
    "@tool\n",
    "def rolld6() -> int:\n",
    "    \"\"\" Roll a six-sided dice\n",
    "    \"\"\"\n",
    "    rand = random.randint(1, 6)\n",
    "    return rand\n",
    "\n",
    "@tool\n",
    "def rolld10() -> int:\n",
    "    \"\"\" Roll a ten-sided dice\n",
    "    \"\"\"\n",
    "    rand = random.randint(1, 10)\n",
    "    return rand\n",
    "\n",
    "@tool\n",
    "def attack(attacker_power: int, defender_health: int, againstPlayer: bool) -> int:\n",
    "    \"\"\" Attacker attacks the defender and check defener health\n",
    "    args:\n",
    "        attacker_power: power of the attack from the attacker\n",
    "        defender_health: health of the defender\n",
    "    \"\"\"\n",
    "    attacker_roll = rolld6({})\n",
    "    attacker_trueap = attacker_power + attacker_roll\n",
    "    if againstPlayer:\n",
    "        player.take_damage(attacker_trueap)\n",
    "    defender_health -= attacker_trueap\n",
    "    return defender_health\n",
    "\n",
    "@tool\n",
    "def heal_player():\n",
    "    \"\"\"Heals the player by the specified amount.\n",
    "    Args:\n",
    "        amount: The amount of health to heal.\n",
    "    Returns:\n",
    "        A message indicating the result of the healing.\n",
    "    \"\"\"\n",
    "    player.heal(50)\n",
    "\n",
    "    if player.hp == player.max_hp:\n",
    "        print(f\"{player.name} is fully healed. Current HP: {player.hp}\")\n",
    "        return f\"{player.name} is fully healed. Current HP: {player.hp}\" \n",
    "    else:\n",
    "        print(f\"{player.name} healed 50 HP. Current HP: {player.hp}\")\n",
    "        return f\"{player.name} healed 50 HP. Current HP: {player.hp}\"\n",
    "\n",
    "@tool\n",
    "def add_item(item):\n",
    "    \"\"\"Adds an item to the player's inventory\n",
    "    Args:\n",
    "        item: the item to be added\n",
    "    Returns:\n",
    "        A message stating that the item was added\n",
    "    \"\"\"\n",
    "    player.add_to_inventory(item)\n",
    "    \n",
    "@tool\n",
    "def remove_item(item):\n",
    "    \"\"\"Removes an item from the player's inventory\n",
    "    Args:\n",
    "        item: the item to be removed\n",
    "    Returns:\n",
    "        A message stating that the item was removed\n",
    "    \"\"\"\n",
    "    player.remove_from_inventory(item)\n",
    "\n",
    "@tool\n",
    "def move_Room(direction: str) -> str:\n",
    "    \"\"\"Moves player across rooms in predefined grid.\"\"\"\n",
    "\n",
    "tools = [rolld6, rolld10, attack, heal_player]"
   ]
  },
  {
   "cell_type": "markdown",
   "metadata": {},
   "source": [
    "# AI Setup"
   ]
  },
  {
   "cell_type": "code",
   "execution_count": 86,
   "metadata": {},
   "outputs": [],
   "source": [
    "llm = ChatOpenAI(temperature = 0, model='gpt-3.5-turbo-1106')"
   ]
  },
  {
   "cell_type": "markdown",
   "metadata": {},
   "source": [
    "Prompt Template"
   ]
  },
  {
   "cell_type": "code",
   "execution_count": 87,
   "metadata": {},
   "outputs": [
    {
     "name": "stderr",
     "output_type": "stream",
     "text": [
      "c:\\Users\\forch\\Documents\\Anaconda\\envs\\cse434\\Lib\\site-packages\\langsmith\\client.py:241: LangSmithMissingAPIKeyWarning: API key must be provided when using hosted LangSmith API\n",
      "  warnings.warn(\n"
     ]
    },
    {
     "data": {
      "text/plain": [
       "ChatPromptTemplate(input_variables=['agent_scratchpad', 'input'], optional_variables=['chat_history'], input_types={'chat_history': list[typing.Annotated[typing.Union[typing.Annotated[langchain_core.messages.ai.AIMessage, Tag(tag='ai')], typing.Annotated[langchain_core.messages.human.HumanMessage, Tag(tag='human')], typing.Annotated[langchain_core.messages.chat.ChatMessage, Tag(tag='chat')], typing.Annotated[langchain_core.messages.system.SystemMessage, Tag(tag='system')], typing.Annotated[langchain_core.messages.function.FunctionMessage, Tag(tag='function')], typing.Annotated[langchain_core.messages.tool.ToolMessage, Tag(tag='tool')], typing.Annotated[langchain_core.messages.ai.AIMessageChunk, Tag(tag='AIMessageChunk')], typing.Annotated[langchain_core.messages.human.HumanMessageChunk, Tag(tag='HumanMessageChunk')], typing.Annotated[langchain_core.messages.chat.ChatMessageChunk, Tag(tag='ChatMessageChunk')], typing.Annotated[langchain_core.messages.system.SystemMessageChunk, Tag(tag='SystemMessageChunk')], typing.Annotated[langchain_core.messages.function.FunctionMessageChunk, Tag(tag='FunctionMessageChunk')], typing.Annotated[langchain_core.messages.tool.ToolMessageChunk, Tag(tag='ToolMessageChunk')]], FieldInfo(annotation=NoneType, required=True, discriminator=Discriminator(discriminator=<function _get_type at 0x000001FE95679EE0>, custom_error_type=None, custom_error_message=None, custom_error_context=None))]], 'agent_scratchpad': list[typing.Annotated[typing.Union[typing.Annotated[langchain_core.messages.ai.AIMessage, Tag(tag='ai')], typing.Annotated[langchain_core.messages.human.HumanMessage, Tag(tag='human')], typing.Annotated[langchain_core.messages.chat.ChatMessage, Tag(tag='chat')], typing.Annotated[langchain_core.messages.system.SystemMessage, Tag(tag='system')], typing.Annotated[langchain_core.messages.function.FunctionMessage, Tag(tag='function')], typing.Annotated[langchain_core.messages.tool.ToolMessage, Tag(tag='tool')], typing.Annotated[langchain_core.messages.ai.AIMessageChunk, Tag(tag='AIMessageChunk')], typing.Annotated[langchain_core.messages.human.HumanMessageChunk, Tag(tag='HumanMessageChunk')], typing.Annotated[langchain_core.messages.chat.ChatMessageChunk, Tag(tag='ChatMessageChunk')], typing.Annotated[langchain_core.messages.system.SystemMessageChunk, Tag(tag='SystemMessageChunk')], typing.Annotated[langchain_core.messages.function.FunctionMessageChunk, Tag(tag='FunctionMessageChunk')], typing.Annotated[langchain_core.messages.tool.ToolMessageChunk, Tag(tag='ToolMessageChunk')]], FieldInfo(annotation=NoneType, required=True, discriminator=Discriminator(discriminator=<function _get_type at 0x000001FE95679EE0>, custom_error_type=None, custom_error_message=None, custom_error_context=None))]]}, partial_variables={'chat_history': []}, metadata={'lc_hub_owner': 'hwchase17', 'lc_hub_repo': 'openai-functions-agent', 'lc_hub_commit_hash': 'a1655024b06afbd95d17449f21316291e0726f13dcfaf990cc0d18087ad689a5'}, messages=[SystemMessagePromptTemplate(prompt=PromptTemplate(input_variables=[], input_types={}, partial_variables={}, template='You are a helpful assistant'), additional_kwargs={}), MessagesPlaceholder(variable_name='chat_history', optional=True), HumanMessagePromptTemplate(prompt=PromptTemplate(input_variables=['input'], input_types={}, partial_variables={}, template='{input}'), additional_kwargs={}), MessagesPlaceholder(variable_name='agent_scratchpad')])"
      ]
     },
     "execution_count": 87,
     "metadata": {},
     "output_type": "execute_result"
    }
   ],
   "source": [
    "prompt = hub.pull(\"hwchase17/openai-functions-agent\")\n",
    "prompt"
   ]
  },
  {
   "cell_type": "markdown",
   "metadata": {},
   "source": [
    "Use AI Agent"
   ]
  },
  {
   "cell_type": "code",
   "execution_count": 88,
   "metadata": {},
   "outputs": [],
   "source": [
    "# Create an OpenAI Functions agent\n",
    "agent = create_openai_functions_agent(llm, tools, prompt=prompt)\n",
    "# Create an agent executor\n",
    "agent_executor = AgentExecutor.from_agent_and_tools(agent=agent,tools=tools,verbose=True, max_iteration=50, max_execution_time=50)"
   ]
  },
  {
   "cell_type": "markdown",
   "metadata": {},
   "source": [
    "# TTS and Image Gen"
   ]
  },
  {
   "cell_type": "markdown",
   "metadata": {},
   "source": [
    "Second AI agent to operate TTS and Image Gen\n",
    "\n",
    "Using SimpleAudio to output audio\n",
    "%pip install simpleaudio"
   ]
  },
  {
   "cell_type": "code",
   "execution_count": 89,
   "metadata": {},
   "outputs": [],
   "source": [
    "from openai import OpenAI\n",
    "import urllib.request \n",
    "from PIL import Image \n",
    "#import simpleaudio as sa\n",
    "client = OpenAI()\n",
    "\n",
    "def GenerateImage(prompt:str):\n",
    "    response = client.images.generate(\n",
    "    model=\"dall-e-3\",\n",
    "    prompt=prompt,\n",
    "    size=\"1024x1024\",\n",
    "    quality=\"standard\",\n",
    "    n=1,\n",
    "    )\n",
    "    image_url = response.data[0].url\n",
    "    urllib.request.urlretrieve(image_url,\"surrounding.png\") \n",
    "    img = Image.open(\"surrounding.png\") \n",
    "    display(img)\n",
    "\n",
    "def TextToSpeech(text:str):\n",
    "    response = client.audio.speech.create(\n",
    "        model=\"tts-1\",\n",
    "        voice=\"echo\", # Best voice in the sample pack\n",
    "        input=text,\n",
    "        response_format=\"wav\",\n",
    "        )\n",
    "    response.write_to_file(\"output.wav\")\n",
    "    wave_obj = sa.WaveObject.from_wave_file(\"output.wav\")\n",
    "    play_obj = wave_obj.play()\n",
    "    play_obj.wait_done()\n",
    "    "
   ]
  },
  {
   "cell_type": "markdown",
   "metadata": {},
   "source": [
    "# Mapping"
   ]
  },
  {
   "cell_type": "code",
   "execution_count": 190,
   "metadata": {},
   "outputs": [
    {
     "name": "stdout",
     "output_type": "stream",
     "text": [
      "\n",
      "\n",
      "\u001b[1m> Entering new AgentExecutor chain...\u001b[0m\n",
      "\u001b[32;1m\u001b[1;3m\"(Style: Gothic) A shadowy chamber with towering stone pillars and eerie, flickering torches casting dancing shadows on the walls. The air is heavy with the scent of ancient dust and the distant echo of haunting whispers.\"\u001b[0m\n",
      "\n",
      "\u001b[1m> Finished chain.\u001b[0m\n",
      "\n",
      "\n",
      "\u001b[1m> Entering new AgentExecutor chain...\u001b[0m\n",
      "\u001b[32;1m\u001b[1;3mNONE\u001b[0m\n",
      "\n",
      "\u001b[1m> Finished chain.\u001b[0m\n",
      "\n",
      "\n",
      "\u001b[1m> Entering new AgentExecutor chain...\u001b[0m\n",
      "\u001b[32;1m\u001b[1;3m\n",
      "Invoking: `rolld6` with `{}`\n",
      "responded: I can certainly help with that! Let me generate some unique NPCs for your D&D dungeon.\n",
      "\n",
      "\u001b[0m\u001b[36;1m\u001b[1;3m6\u001b[0m\u001b[32;1m\u001b[1;3m\n",
      "Invoking: `rolld10` with `{}`\n",
      "\n",
      "\n",
      "\u001b[0m\u001b[33;1m\u001b[1;3m10\u001b[0m\u001b[32;1m\u001b[1;3mThe unique NPC for your D&D dungeon is: Zephyr - Gnome.\u001b[0m\n",
      "\n",
      "\u001b[1m> Finished chain.\u001b[0m\n",
      "{'Description': '\"(Style: Gothic) A shadowy chamber with towering stone pillars and eerie, flickering torches casting dancing shadows on the walls. The air is heavy with the scent of ancient dust and the distant echo of haunting whispers.\"', 'NPCs': 'The unique NPC for your D&D dungeon is: Zephyr - Gnome.', 'Items': 'NONE', 'Doors': [], 'Chests': []}\n"
     ]
    }
   ],
   "source": [
    "import numpy as np\n",
    "import random\n",
    "#Create an empty map\n",
    "mapsize = 5\n",
    "grid = np.empty((mapsize, mapsize), dtype=object)\n",
    "for i in range(mapsize):\n",
    "    for j in range(mapsize):\n",
    "        grid[i, j] = {\"Description\": \"Unknown\", \"NPCs\": [], \"Items\": [], \"Doors\": [], \"Chests\": []}\n",
    "#Select a random starting position\n",
    "currentLocation = [random.randint(0, mapsize-1), random.randint(0, mapsize-1)]\n",
    "generateRoom(\"Underground\")"
   ]
  },
  {
   "cell_type": "code",
   "execution_count": null,
   "metadata": {},
   "outputs": [],
   "source": [
    "def generateRoom(theme: str):\n",
    "        #NEED TO IMPROVE PROMPTS\n",
    "        #Generate Description of the room\n",
    "        question = \"\"\"Write a description for a room in a dnd dungeon in the style of\"\"\"+ theme + \"\"\"Example:\\n\"\n",
    "        \"(Style: Steampunk) A cavernous workshop lit by flickering gas lamps. Brass gears and pipes crisscross the walls, and the air hums with the sound of steam escaping from a valve.\"\n",
    "        \"(Style: Medieval) A dimly lit stone room with rats scurrying along the edges. There is a strong stench of blood in the air\"\"\"\n",
    "        response = agent_executor.invoke({\"input\": question})\n",
    "        grid[currentLocation[0]][currentLocation[1]][\"Description\"] = response[\"output\"]\n",
    "        #Generate any items\n",
    "        items = random.randint(0,2)\n",
    "        question = f\"Generate {items} unique items for a D&D dungeon. Examples: potion of restoration, enchanted sword. Respond with NONE if there are no items.\"\n",
    "        response = agent_executor.invoke({\"input\": question})\n",
    "        grid[currentLocation[0]][currentLocation[1]][\"Items\"] = response[\"output\"]\n",
    "        #Generate any NPCs\n",
    "        npcs = random.randint(0,1)\n",
    "        question = f\"Generate {npcs} unique NPCs for a D&D dungeon in the format: Name - Attribute. Example: Helga - Half orc. Respond with NONE if there are no NPCs.\"\n",
    "        response = agent_executor.invoke({\"input\": question})\n",
    "        grid[currentLocation[0]][currentLocation[1]][\"NPCs\"] = response[\"output\"]\n",
    "\n",
    "        print(grid[currentLocation[0]][currentLocation[1]])"
   ]
  },
  {
   "cell_type": "code",
   "execution_count": 227,
   "metadata": {},
   "outputs": [],
   "source": [
    "def moveRoom(direction, theme):\n",
    "    try:\n",
    "        if direction == 'North':\n",
    "            currentLocation[0] = currentLocation[0] + 1\n",
    "        if direction == 'South':\n",
    "            currentLocation[0] = currentLocation[0] - 1\n",
    "        if direction == 'East':\n",
    "            currentLocation[1] = currentLocation[1] + 1\n",
    "        if direction == 'West':\n",
    "            currentLocation[1] = currentLocation[1] - 1\n",
    "    except:\n",
    "        print(\"You cannot move in this direction!\")\n",
    "    if grid[currentLocation[0]][currentLocation[1]][\"Description\"] == \"Unknown\":\n",
    "        generateRoom(theme)"
   ]
  },
  {
   "cell_type": "code",
   "execution_count": 228,
   "metadata": {},
   "outputs": [],
   "source": [
    "def serialize_map(grid):\n",
    "    return json.dumps(grid.tolist(), indent=2)"
   ]
  },
  {
   "cell_type": "code",
   "execution_count": 229,
   "metadata": {},
   "outputs": [],
   "source": [
    "from matplotlib import pyplot as plt\n",
    "from matplotlib import colors\n",
    "import numpy as np\n",
    "def printMap():\n",
    "  grid_data = np.zeros((mapsize, mapsize))  # Initialize with 0s (grey)\n",
    "\n",
    "  for i in range(mapsize):\n",
    "    for j in range(mapsize):\n",
    "      if grid[i, j][\"Description\"] != \"Unknown\":\n",
    "        grid_data[i, j] = 1  # Set to 1 (red) for known descriptions\n",
    "\n",
    "  cmap = colors.ListedColormap(['gray', 'red']) # Define colormap\n",
    "  plt.figure(figsize=(6, 6))\n",
    "  plt.pcolor(grid_data[::1],cmap=cmap,edgecolors='k', linewidths=3)\n",
    "  plt.title(\"Dungeon Grid\")\n",
    "\n",
    "\n",
    "  # Add a black circle at the current location\n",
    "  plt.scatter(currentLocation[1]+0.5, currentLocation[0]+0.5, s=100, c='black', marker='o')\n",
    "\n",
    "  plt.show()\n"
   ]
  },
  {
   "cell_type": "markdown",
   "metadata": {},
   "source": [
    "Testing"
   ]
  },
  {
   "cell_type": "code",
   "execution_count": 230,
   "metadata": {},
   "outputs": [],
   "source": [
    "moveRoom(\"West\", \"High Fantasy\")\n",
    "#moveRoom(\"South\")"
   ]
  },
  {
   "cell_type": "code",
   "execution_count": 185,
   "metadata": {},
   "outputs": [
    {
     "data": {
      "image/png": "[encoded data removed]",
      "text/plain": [
       "<Figure size 600x600 with 1 Axes>"
      ]
     },
     "metadata": {},
     "output_type": "display_data"
    },
    {
     "name": "stdout",
     "output_type": "stream",
     "text": [
      "{'Description': 'In the style of Steampunk, the room would be:\\n\"A dimly lit chamber filled with the rhythmic clanking of machinery. Copper pipes and brass fittings line the walls, carrying steam and emitting a soft hiss. In the center of the room, a large, ornate contraption of gears and cogs whirs and spins, its purpose shrouded in mystery. A workbench displays an array of intricate clockwork devices and mechanical gadgets, each meticulously crafted with precision. The air is heavy with the scent of oil and metal, and the room resonates with the energy of invention and innovation.\"', 'NPCs': 'The unique NPC for your D&D dungeon is: \\n\\n- Thorne - Gnome', 'Items': 'Here are two unique items for a D&D dungeon:\\n\\n1. Amulet of the Phoenix\\n2. Cloak of Shadows\\n\\nThese items can add an interesting twist to your dungeon adventure!', 'Doors': [], 'Chests': []}\n"
     ]
    }
   ],
   "source": [
    "printMap()\n",
    "print(grid[currentLocation[0]][currentLocation[1]])"
   ]
  },
  {
   "cell_type": "markdown",
   "metadata": {},
   "source": [
    "# Saving and Loading"
   ]
  },
  {
   "cell_type": "code",
   "execution_count": 96,
   "metadata": {},
   "outputs": [],
   "source": [
    "import pickle\n",
    "\n",
    "def save():\n",
    "    with open('memory.pkl', 'wb') as file:\n",
    "        pickle.dump(player, file)\n",
    "        pickle.dump(grid, file)\n",
    "        pickle.dump(currentLocation, file)\n",
    "\n",
    "def load():\n",
    "    with open('memory.pkl','rb') as file:\n",
    "        player = pickle.load(file)\n",
    "        grid = pickle.load(file)\n",
    "        currentLocation = pickle.load(file)"
   ]
  },
  {
   "cell_type": "markdown",
   "metadata": {},
   "source": [
    "# Main Code"
   ]
  },
  {
   "cell_type": "code",
   "execution_count": 222,
   "metadata": {},
   "outputs": [],
   "source": [
    "chat_history = []\n",
    "theme = \"\"\n",
    "def GetContext(theme:str, character:str, grid_json, currentLocation):\n",
    "    return (\n",
    "        f\"You are a DnD Dungeon Master tasked with running a simplified DnD game. \"\n",
    "        f\"Craft a story according to the theme: {theme}. \"\n",
    "        f\"My character is {character}. \"\n",
    "        \"Below is the map of their immediate surroundings and their current location. \"\n",
    "        \"Use this map to describe the player's current room and offer options for their next move.\\n\\n\"\n",
    "        f\"Current Location: {currentLocation}\\n\"\n",
    "        f\"Map Data:\\n{grid_json}\\n\\n\"\n",
    "        \"Steps:\\n\"\n",
    "        \"1. Describe the current room based on 'Description'.\\n\"\n",
    "        \"2. Offer options for the player's next action.\"\n",
    "        \"\\n\\nRules for gameplay:\\n\"\n",
    "        \"- For skill checks, the player rolls a d10.\\n\"\n",
    "        \"  - Easy scenarios require a roll of 3 or higher.\\n\"\n",
    "        \"  - Hard scenarios require a roll of 7 or higher.\\n\"\n",
    "        \"- For combat, use the attack tool to simulate turns:\\n\"\n",
    "        \"  - Player and NPC alternate attacks until one is defeated.\\n\"\n",
    "        \"  - Narrate the combat to fit the story.\\n\"\n",
    "        \"Write immersive descriptions and ensure consistency with the chosen theme and character.\"\n",
    "    )\n",
    "\n",
    "def PromptAndResponse(question: str, theme: str, grid_json):\n",
    "    # Check if the question is a movement command\n",
    "    movement_commands = [\"go north\", \"move north\", \"go south\", \"move south\", \"go east\", \"move east\", \"go west\", \"move west\"]\n",
    "    movement_detected = [cmd for cmd in movement_commands if cmd in question.lower()]\n",
    "\n",
    "    if movement_detected:\n",
    "        # Extract the direction from the command\n",
    "        direction = movement_detected[0].split()[-1].capitalize()\n",
    "        moveRoom(direction, theme)  # Update the player's location\n",
    "        # Get the new room description after moving\n",
    "        new_room_desc = f\"You moved {direction}. Here's what you see: {grid[currentLocation[0]][currentLocation[1]]['Description']}\"\n",
    "        print(new_room_desc)\n",
    "        chat_history.append(HumanMessage(content=question))\n",
    "        chat_history.append(AIMessage(content=new_room_desc))\n",
    "    else:\n",
    "        # Handle non-movement commands using the agent_executor\n",
    "        response = agent_executor.invoke({\n",
    "            \"input\": question,\n",
    "            \"chat_history\": chat_history,\n",
    "        })\n",
    "        chat_history.append(HumanMessage(content=question))\n",
    "        chat_history.append(AIMessage(content=response['output']))\n",
    "\n",
    "        imageContext = agent_executor.invoke({\n",
    "            \"input\": \"Describe the surrounding in one sentence\",\n",
    "            \"chat_history\": chat_history,\n",
    "        })\n",
    "\n",
    "        print(f\"Your input: {question}\")\n",
    "        # GenerateImage(imageContext['output'])\n",
    "        print(f\"Dungeon Master: {response['output']}\")\n",
    "        # TextToSpeech(response['output'])\n",
    "    \n",
    "\n",
    "\n",
    "    "
   ]
  },
  {
   "cell_type": "markdown",
   "metadata": {},
   "source": [
    "Game Start"
   ]
  },
  {
   "cell_type": "code",
   "execution_count": 224,
   "metadata": {},
   "outputs": [],
   "source": [
    "# Method to play the game and enter game loop\n",
    "def PlayGame(theme, grid_json):\n",
    "    playing = True\n",
    "\n",
    "    while(playing):\n",
    "        question = input()\n",
    "        clear_output()\n",
    "\n",
    "        if (len(question) < 1):\n",
    "            playing = False\n",
    "            question = \"I am done with the game. Thank you.\"\n",
    "        PromptAndResponse(question, theme, grid_json)\n",
    "    save()\n",
    "\n",
    "# Method to get starting prompt and initialize the game\n",
    "def StartGame():\n",
    "    #USE TO START THE GAME PROPE\n",
    "    #Create an empty map\n",
    "    mapsize = 5\n",
    "    grid = np.empty((mapsize, mapsize), dtype=object)\n",
    "    for i in range(mapsize):\n",
    "        for j in range(mapsize):\n",
    "            grid[i, j] = {\"Description\": \"Unknown\", \"NPCs\": [], \"Items\": [], \"Doors\": [], \"Chests\": []}\n",
    "    # Define Player Information\n",
    "    player = {\"Inventory\":[], \"Health\":100, \"XP\":0, \"Attack_Power\":10}\n",
    "    #Select a random starting position\n",
    "    currentLocation = [random.randint(0, mapsize-1), random.randint(0, mapsize-1)]\n",
    "    chat_history = []\n",
    "    print(\"Welcome to Dungeon Intelligence. Please enter the theme of the game:\")\n",
    "    theme = input()\n",
    "    print(\"Please enter your character:\")\n",
    "    character = input()\n",
    "    player['Name'] = character\n",
    "    generateRoom(theme)\n",
    "    grid_json = serialize_map(grid)\n",
    "    chat_history.append(GetContext(theme, character, grid_json, currentLocation))\n",
    "    chat_history.append(currentLocation)\n",
    "    print(chat_history)\n",
    "    PromptAndResponse(\"Can you start the game with the given information?\", theme, grid_json)\n",
    "    PlayGame(theme, grid_json)"
   ]
  },
  {
   "cell_type": "code",
   "execution_count": 225,
   "metadata": {},
   "outputs": [
    {
     "name": "stdout",
     "output_type": "stream",
     "text": [
      "\n",
      "\n",
      "\u001b[1m> Entering new AgentExecutor chain...\u001b[0m\n",
      "\u001b[32;1m\u001b[1;3mOf course! Let's begin the story of our DnD campaign.\n",
      "\n",
      "Title: The Quest for the Lost Relic\n",
      "\n",
      "In the land of Eldoria, a realm of magic and mystery, a great darkness looms over the kingdom. The ancient relic known as the \"Crystal of Eternity\" has been stolen from the sacred temple, and its disappearance has plunged the land into chaos. The Crystal of Eternity is said to hold the power to maintain balance and harmony in Eldoria, and without it, the forces of darkness grow stronger with each passing day.\n",
      "\n",
      "As the kingdom's last hope, a group of brave adventurers has been summoned to embark on a perilous quest to retrieve the lost relic and restore peace to Eldoria. The fate of the realm rests in their hands, and they must journey through treacherous forests, daunting mountains, and mysterious dungeons to uncover the truth behind the relic's disappearance.\n",
      "\n",
      "Our adventurers will face formidable foes, solve ancient riddles, and forge unbreakable bonds as they venture into the heart of darkness to reclaim the Crystal of Eternity. Along the way, they will encounter allies and enemies, uncover long-forgotten secrets, and ultimately decide the fate of Eldoria.\n",
      "\n",
      "Are you ready to join the quest for the lost relic?\u001b[0m\n",
      "\n",
      "\u001b[1m> Finished chain.\u001b[0m\n",
      "Response: Of course! Let's begin the story of our DnD campaign.\n",
      "\n",
      "Title: The Quest for the Lost Relic\n",
      "\n",
      "In the land of Eldoria, a realm of magic and mystery, a great darkness looms over the kingdom. The ancient relic known as the \"Crystal of Eternity\" has been stolen from the sacred temple, and its disappearance has plunged the land into chaos. The Crystal of Eternity is said to hold the power to maintain balance and harmony in Eldoria, and without it, the forces of darkness grow stronger with each passing day.\n",
      "\n",
      "As the kingdom's last hope, a group of brave adventurers has been summoned to embark on a perilous quest to retrieve the lost relic and restore peace to Eldoria. The fate of the realm rests in their hands, and they must journey through treacherous forests, daunting mountains, and mysterious dungeons to uncover the truth behind the relic's disappearance.\n",
      "\n",
      "Our adventurers will face formidable foes, solve ancient riddles, and forge unbreakable bonds as they venture into the heart of darkness to reclaim the Crystal of Eternity. Along the way, they will encounter allies and enemies, uncover long-forgotten secrets, and ultimately decide the fate of Eldoria.\n",
      "\n",
      "Are you ready to join the quest for the lost relic?\n"
     ]
    }
   ],
   "source": [
    "context = \"TWith the given scenario, you will be designing a DnD campaign from the start.\"\n",
    "question = \"Can you begin the story?\"\n",
    "scenario = \"Fantasy\"\n",
    "response = agent_executor.invoke({\"input\": scenario+context+question})\n",
    "print(f\"Response: {response['output']}\")"
   ]
  },
  {
   "cell_type": "code",
   "execution_count": 226,
   "metadata": {},
   "outputs": [
    {
     "name": "stdout",
     "output_type": "stream",
     "text": [
      "\n",
      "\n",
      "\u001b[1m> Entering new AgentExecutor chain...\u001b[0m\n",
      "\u001b[32;1m\u001b[1;3mYou're welcome! If you ever want to play again or need assistance with anything else, feel free to ask. Have a great day!\u001b[0m\n",
      "\n",
      "\u001b[1m> Finished chain.\u001b[0m\n",
      "\n",
      "\n",
      "\u001b[1m> Entering new AgentExecutor chain...\u001b[0m\n",
      "\u001b[32;1m\u001b[1;3mThe mystical chamber is adorned with glowing crystals and ancient runes, filled with the faint scent of enchantment and a soft, ethereal glow.\u001b[0m\n",
      "\n",
      "\u001b[1m> Finished chain.\u001b[0m\n",
      "Your input: I am done with the game. Thank you.\n",
      "Dungeon Master: You're welcome! If you ever want to play again or need assistance with anything else, feel free to ask. Have a great day!\n",
      "[HumanMessage(content='Can you start the game with the given information? First describe the room the player is in.', additional_kwargs={}, response_metadata={}), AIMessage(content=\"You find yourself in a dimly lit room with stone walls and a single wooden door. The air is musty and there's a faint smell of dampness. In the center of the room, there's a small table with a flickering candle and a worn leather-bound book. The room feels eerie, and you can hear the sound of distant footsteps echoing through the corridors. It seems like you're in for an adventure. Are you ready to begin?\", additional_kwargs={}, response_metadata={}), HumanMessage(content='I am done with the game. Thank you.', additional_kwargs={}, response_metadata={}), AIMessage(content=\"You're welcome! If you ever want to play again or need assistance with anything else, feel free to ask. Have a great day!\", additional_kwargs={}, response_metadata={}), HumanMessage(content='Can you start the game with the given information?', additional_kwargs={}, response_metadata={}), AIMessage(content=\"Of course! Let's begin the game. You find yourself in a dimly lit room with stone walls and a single wooden door. The air is musty and there's a faint smell of dampness. In the center of the room, there's a small table with a flickering candle and a worn leather-bound book. The room feels eerie, and you can hear the sound of distant footsteps echoing through the corridors. It seems like you're in for an adventure. Are you ready to begin?\", additional_kwargs={}, response_metadata={}), HumanMessage(content='Move north', additional_kwargs={}, response_metadata={}), AIMessage(content='You moved North. Here\\'s what you see: \"(Style: Fantasy) A mystical chamber adorned with glowing crystals and ancient runes etched into the walls. The air is filled with the faint scent of enchantment, and a soft, ethereal glow emanates from the center of the room.\"', additional_kwargs={}, response_metadata={}), HumanMessage(content='Attack the NPC', additional_kwargs={}, response_metadata={}), AIMessage(content=\"You attacked the NPC with a power of 2, and the NPC's health was 3. The result of the attack is -2, indicating that the NPC's health is reduced to 1. Good job!\", additional_kwargs={}, response_metadata={}), HumanMessage(content='Move west', additional_kwargs={}, response_metadata={}), AIMessage(content='You moved West. Here\\'s what you see: \"(Style: Cyberpunk) A neon-lit chamber with holographic displays flickering in the darkness. Wires and cables snake across the floor, connecting to glowing terminals. The air is filled with the low hum of machinery and the occasional crackle of electricity.\"', additional_kwargs={}, response_metadata={}), HumanMessage(content='Move East', additional_kwargs={}, response_metadata={}), AIMessage(content='You moved East. Here\\'s what you see: \"(Style: Fantasy) A mystical chamber adorned with glowing crystals and ancient runes etched into the walls. The air is filled with the faint scent of enchantment, and a soft, ethereal glow emanates from the center of the room.\"', additional_kwargs={}, response_metadata={}), HumanMessage(content='Attack Thalia', additional_kwargs={}, response_metadata={}), AIMessage(content=\"You attacked Thalia with a power of 5, and Thalia's health was 8. The result of the attack is -3, indicating that Thalia's health is reduced to 5. Keep it up!\", additional_kwargs={}, response_metadata={}), HumanMessage(content='Keep attacking thalia', additional_kwargs={}, response_metadata={}), AIMessage(content=\"You attacked Thalia with a power of 5 again, and Thalia's health was 5. The result of the attack is -3, indicating that Thalia's health is reduced to 2. Thalia is getting weaker!\", additional_kwargs={}, response_metadata={}), HumanMessage(content='Attack Thalia until health is 0', additional_kwargs={}, response_metadata={}), AIMessage(content='You attacked Thalia until her health reached 0. Thalia has been defeated! Well done!', additional_kwargs={}, response_metadata={}), HumanMessage(content='Move West', additional_kwargs={}, response_metadata={}), AIMessage(content='You moved West. Here\\'s what you see: \"(Style: Cyberpunk) A neon-lit chamber with holographic displays flickering in the darkness. Wires and cables snake across the floor, connecting to glowing terminals. The air is filled with the low hum of machinery and the occasional crackle of electricity.\"', additional_kwargs={}, response_metadata={}), HumanMessage(content='Move East', additional_kwargs={}, response_metadata={}), AIMessage(content='You moved East. Here\\'s what you see: \"(Style: Fantasy) A mystical chamber adorned with glowing crystals and ancient runes etched into the walls. The air is filled with the faint scent of enchantment, and a soft, ethereal glow emanates from the center of the room.\"', additional_kwargs={}, response_metadata={}), HumanMessage(content='Is Thalia still alive?', additional_kwargs={}, response_metadata={}), AIMessage(content='Thalia has been defeated and is no longer a threat. You can explore the chamber without worry.', additional_kwargs={}, response_metadata={}), HumanMessage(content='What items are in the chamber', additional_kwargs={}, response_metadata={}), AIMessage(content='In the chamber, you find a shimmering crystal amulet, a vial of glowing potion, and a mysterious scroll with ancient symbols inscribed on it. These items seem to hold great significance and may be of use on your journey.', additional_kwargs={}, response_metadata={}), HumanMessage(content='Take the items', additional_kwargs={}, response_metadata={}), AIMessage(content='You have taken the shimmering crystal amulet, the vial of glowing potion, and the mysterious scroll. These items are now in your possession.', additional_kwargs={}, response_metadata={}), HumanMessage(content='Move east', additional_kwargs={}, response_metadata={}), AIMessage(content='You moved East. Here\\'s what you see: \"(Style: Cyberpunk) A neon-lit chamber with holographic displays flickering in the darkness. Wires and cables snake across the floor, connecting to glowing terminals. The air is filled with the low hum of machinery and the distant sound of electronic music.\"', additional_kwargs={}, response_metadata={}), HumanMessage(content='Move West', additional_kwargs={}, response_metadata={}), AIMessage(content='You moved West. Here\\'s what you see: \"(Style: Fantasy) A mystical chamber adorned with glowing crystals and ancient runes etched into the walls. The air is filled with the faint scent of enchantment, and a soft, ethereal glow emanates from the center of the room.\"', additional_kwargs={}, response_metadata={}), HumanMessage(content='Are there any items here?', additional_kwargs={}, response_metadata={}), AIMessage(content='In the mystical chamber, you notice a small chest tucked away in a corner. It seems to be filled with ancient artifacts and treasures.', additional_kwargs={}, response_metadata={}), HumanMessage(content='I am done with the game. Thank you.', additional_kwargs={}, response_metadata={}), AIMessage(content=\"You're welcome! If you ever want to play again or need assistance with anything else, feel free to ask. Have a great day!\", additional_kwargs={}, response_metadata={})]\n"
     ]
    }
   ],
   "source": [
    "StartGame()\n",
    "print(chat_history)"
   ]
  }
 ],
 "metadata": {
  "kernelspec": {
   "display_name": "cse434",
   "language": "python",
   "name": "python3"
  },
  "language_info": {
   "codemirror_mode": {
    "name": "ipython",
    "version": 3
   },
   "file_extension": ".py",
   "mimetype": "text/x-python",
   "name": "python",
   "nbconvert_exporter": "python",
   "pygments_lexer": "ipython3",
   "version": "3.11.9"
  }
 },
 "nbformat": 4,
 "nbformat_minor": 2
}
