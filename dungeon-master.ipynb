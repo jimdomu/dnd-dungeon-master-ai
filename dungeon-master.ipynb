{
 "cells": [
  {
   "cell_type": "markdown",
   "metadata": {},
   "source": [
    "This is the main notebook to design the DnD Dungeon Master"
   ]
  },
  {
   "cell_type": "markdown",
   "metadata": {},
   "source": [
    "Loading all relevant keys:"
   ]
  },
  {
   "cell_type": "code",
   "execution_count": 2,
   "metadata": {},
   "outputs": [],
   "source": [
    "import os\n",
    "from dotenv import load_dotenv\n",
    "\n",
    "load_dotenv()\n",
    "\n",
    "assert 'OPENAI_API_KEY' in os.environ, \"You will need to set an OPENAI_API_KEY\"\n",
    "assert 'LANGCHAIN_API_KEY' in os.environ, \"You will need to set an LANGCHAIN_API_KEY\""
   ]
  },
  {
   "cell_type": "markdown",
   "metadata": {},
   "source": [
    "Importing all relevant libraries:"
   ]
  },
  {
   "cell_type": "code",
   "execution_count": 3,
   "metadata": {},
   "outputs": [],
   "source": [
    "from langchain.agents import create_openai_functions_agent\n",
    "from langchain_openai import ChatOpenAI\n",
    "from langchain.tools import tool\n",
    "from langchain.chains import LLMMathChain\n",
    "from langchain.prompts import PromptTemplate\n",
    "from langchain import hub\n",
    "from langchain.agents import AgentExecutor\n",
    "\n",
    "import random"
   ]
  },
  {
   "cell_type": "markdown",
   "metadata": {},
   "source": [
    "Specification from Canvas:\n",
    "\n",
    "Project Requirements\n",
    "\n",
    "World Memory: Implement persistent storage of state for each location. The AI must recognize when players revisit a location and present an updated description reflecting prior actions.\n",
    "\n",
    "Map Generation and Navigation: The AI should create and maintain a coherent map of connected locations, ensuring logical placement and connections.\n",
    "\n",
    "Dynamic Descriptions and Interactions: Generate unique descriptions and manage NPC or item states dynamically, adapting based on player actions.\n",
    "Randomized Location Descriptions and Encounters: When players enter a new location, the AI generates a fresh, random description consistent with nearby areas and may spawn new NPCs or items. This allows each exploration to feel novel and immersive while maintaining a coherent world.\n",
    "\n",
    "Simplified D&D Mechanics: Use a streamlined set of D&D-inspired mechanics (detailed below) to guide the AI’s decisions and narration for combat, exploration, and interactions."
   ]
  },
  {
   "cell_type": "markdown",
   "metadata": {},
   "source": [
    "DnD Simplified Mechanics:\n",
    "\n",
    "NPC Interaction and Combat\n",
    "NPCs have two attributes: Health Points (HP) and Attack Power.\n",
    "Combat: When players engage in combat, each side rolls a virtual 1d6 (a six-sided die) and adds it to their Attack Power to determine damage for that turn.\n",
    "\n",
    "Victory Conditions: The player wins if the NPC’s HP reaches zero, and loses if their own HP does.\n",
    "Skill Checks and Random Outcomes\n",
    "When players attempt a risky action (e.g., unlocking a door), the AI rolls a 1d10 (a ten-sided die) for a skill check.\n",
    "For simple tasks, a roll of 3 or higher succeeds.\n",
    "For challenging tasks, a roll of 6 or higher is needed.\n",
    "Descriptions should vary based on success or failure, giving the interaction a creative touch.\n",
    "\n",
    "Inventory and Simple Item Use\n",
    "Players can pick up and use basic items like keys or healing potions.\n",
    "Items: Each item has a single effect—e.g., a potion heals 10 HP, a key unlocks a specific door.\n",
    "The AI remembers which items have been used or taken to manage inventory without complex tracking.\n",
    "\n",
    "Experience Points and Leveling (Optional)\n",
    "Players can gain Experience Points (XP) for completing significant actions or defeating NPCs.\n",
    "When players reach 50 XP, they \"level up,\" gaining a small HP increase.\n",
    "This provides a sense of progression with minimal complexity."
   ]
  },
  {
   "cell_type": "code",
   "execution_count": null,
   "metadata": {},
   "outputs": [],
   "source": [
    "@tool\n",
    "def rolld6() -> int:\n",
    "    \"\"\" Roll a six-sided dice\n",
    "    \"\"\"\n",
    "    rand = random.randint(1, 6)\n",
    "    return rand\n",
    "\n",
    "@tool\n",
    "def rolld10() -> int:\n",
    "    \"\"\" Roll a ten-sided dice\n",
    "    \"\"\"\n",
    "    rand = random.randint(1, 10)\n",
    "    return rand\n",
    "\n",
    "@tool\n",
    "def combat(player_health: int, player_attack: int, npc_health: int, npc_attack: int) -> {int, int}:\n",
    "    \"\"\" Player enters combat with an NPC\n",
    "    args:\n",
    "        player_health: player's remaining health\n",
    "        player_attack: player's attack power\n",
    "        npc_health: npc's remaining health\n",
    "        npc_attack: npc's attack power\n",
    "    \"\"\"\n",
    "    while (player_health > 0 and npc_health > 0):\n",
    "        player_trueap = player_attack + rolld6({})\n",
    "        npc_trueap = npc_attack + rolld6({})\n",
    "        player_health -= npc_trueap\n",
    "        npc_health -= player_trueap\n",
    "        yield player_health, npc_health\n",
    "\n",
    "    return player_health, npc_health\n",
    "\n",
    "tools = [rolld6,rolld10,combat]"
   ]
  },
  {
   "cell_type": "markdown",
   "metadata": {},
   "source": [
    "State Persistence\n",
    "\n",
    "The AI must track and remember states for each location and NPC to maintain continuity. This includes:\n",
    "\n",
    "Location State: Track if a door is unlocked, a chest is opened, or an item has been taken.\n",
    "\n",
    "NPC Status: Remember if NPCs have been defeated, moved, or interacted with.\n",
    "\n",
    "Inventory: Track items players possess and mark items as “used” once they’re applied (e.g., a used key).\n",
    "\n",
    "Player Stats: Keep player attributes like HP, XP, and inventory status persistent across moves.\n"
   ]
  },
  {
   "cell_type": "markdown",
   "metadata": {},
   "source": [
    "Map Representation\n",
    "\n",
    "The map is a logical grid or node-based structure, where each “node” represents a unique location.\n",
    "\n",
    "Location Connections: Each node includes connections to adjacent locations (e.g., north, south, east, west).\n",
    "\n",
    "Unique Descriptions and Random Encounters: Each time players enter a new node, the AI generates a fresh description that is contextually consistent with nearby areas. The AI may also spawn random NPCs or items, creating an immersive experience while ensuring coherence.\n",
    "\n",
    "NPC and Item Placement: Each node may contain NPCs or items, which the AI can add or remove based on player actions."
   ]
  },
  {
   "cell_type": "markdown",
   "metadata": {},
   "source": [
    "GRADUATE STUDENT:\n",
    "Graduate students are required to implement additional features to expand the AI’s storytelling capabilities:\n",
    "\n",
    "Text-to-Speech (TTS): Add a TTS system to narrate the AI-generated descriptions and interactions, enhancing the immersive experience.\n",
    "\n",
    "Image Generation: Integrate a simple image generation model to create visual representations of locations or key events, adding a visual storytelling element to the text-based game."
   ]
  },
  {
   "cell_type": "code",
   "execution_count": 33,
   "metadata": {},
   "outputs": [],
   "source": [
    "llm = ChatOpenAI(temperature = 0, model='gpt-3.5-turbo-1106')"
   ]
  },
  {
   "cell_type": "code",
   "execution_count": 6,
   "metadata": {},
   "outputs": [],
   "source": [
    "llm_with_tools = llm.bind_tools(tools)"
   ]
  },
  {
   "cell_type": "code",
   "execution_count": 7,
   "metadata": {},
   "outputs": [
    {
     "data": {
      "text/plain": [
       "[{'name': 'rolld6',\n",
       "  'args': {},\n",
       "  'id': 'call_2nvL64G7N3TnPikvFv9h4okM',\n",
       "  'type': 'tool_call'},\n",
       " {'name': 'rolld10',\n",
       "  'args': {},\n",
       "  'id': 'call_3yeZYNnI8BaPenkaiseN1s6X',\n",
       "  'type': 'tool_call'}]"
      ]
     },
     "execution_count": 7,
     "metadata": {},
     "output_type": "execute_result"
    }
   ],
   "source": [
    "query = \"Can you roll a d6 and a d10?\"\n",
    "\n",
    "llm_with_tools.invoke(query).tool_calls"
   ]
  },
  {
   "cell_type": "markdown",
   "metadata": {},
   "source": [
    "Prompt Template"
   ]
  },
  {
   "cell_type": "code",
   "execution_count": 34,
   "metadata": {},
   "outputs": [
    {
     "data": {
      "text/plain": [
       "ChatPromptTemplate(input_variables=['agent_scratchpad', 'input'], optional_variables=['chat_history'], input_types={'chat_history': list[typing.Annotated[typing.Union[typing.Annotated[langchain_core.messages.ai.AIMessage, Tag(tag='ai')], typing.Annotated[langchain_core.messages.human.HumanMessage, Tag(tag='human')], typing.Annotated[langchain_core.messages.chat.ChatMessage, Tag(tag='chat')], typing.Annotated[langchain_core.messages.system.SystemMessage, Tag(tag='system')], typing.Annotated[langchain_core.messages.function.FunctionMessage, Tag(tag='function')], typing.Annotated[langchain_core.messages.tool.ToolMessage, Tag(tag='tool')], typing.Annotated[langchain_core.messages.ai.AIMessageChunk, Tag(tag='AIMessageChunk')], typing.Annotated[langchain_core.messages.human.HumanMessageChunk, Tag(tag='HumanMessageChunk')], typing.Annotated[langchain_core.messages.chat.ChatMessageChunk, Tag(tag='ChatMessageChunk')], typing.Annotated[langchain_core.messages.system.SystemMessageChunk, Tag(tag='SystemMessageChunk')], typing.Annotated[langchain_core.messages.function.FunctionMessageChunk, Tag(tag='FunctionMessageChunk')], typing.Annotated[langchain_core.messages.tool.ToolMessageChunk, Tag(tag='ToolMessageChunk')]], FieldInfo(annotation=NoneType, required=True, discriminator=Discriminator(discriminator=<function _get_type at 0x00000205BC44B060>, custom_error_type=None, custom_error_message=None, custom_error_context=None))]], 'agent_scratchpad': list[typing.Annotated[typing.Union[typing.Annotated[langchain_core.messages.ai.AIMessage, Tag(tag='ai')], typing.Annotated[langchain_core.messages.human.HumanMessage, Tag(tag='human')], typing.Annotated[langchain_core.messages.chat.ChatMessage, Tag(tag='chat')], typing.Annotated[langchain_core.messages.system.SystemMessage, Tag(tag='system')], typing.Annotated[langchain_core.messages.function.FunctionMessage, Tag(tag='function')], typing.Annotated[langchain_core.messages.tool.ToolMessage, Tag(tag='tool')], typing.Annotated[langchain_core.messages.ai.AIMessageChunk, Tag(tag='AIMessageChunk')], typing.Annotated[langchain_core.messages.human.HumanMessageChunk, Tag(tag='HumanMessageChunk')], typing.Annotated[langchain_core.messages.chat.ChatMessageChunk, Tag(tag='ChatMessageChunk')], typing.Annotated[langchain_core.messages.system.SystemMessageChunk, Tag(tag='SystemMessageChunk')], typing.Annotated[langchain_core.messages.function.FunctionMessageChunk, Tag(tag='FunctionMessageChunk')], typing.Annotated[langchain_core.messages.tool.ToolMessageChunk, Tag(tag='ToolMessageChunk')]], FieldInfo(annotation=NoneType, required=True, discriminator=Discriminator(discriminator=<function _get_type at 0x00000205BC44B060>, custom_error_type=None, custom_error_message=None, custom_error_context=None))]]}, partial_variables={'chat_history': []}, metadata={'lc_hub_owner': 'hwchase17', 'lc_hub_repo': 'openai-functions-agent', 'lc_hub_commit_hash': 'a1655024b06afbd95d17449f21316291e0726f13dcfaf990cc0d18087ad689a5'}, messages=[SystemMessagePromptTemplate(prompt=PromptTemplate(input_variables=[], input_types={}, partial_variables={}, template='You are a helpful assistant'), additional_kwargs={}), MessagesPlaceholder(variable_name='chat_history', optional=True), HumanMessagePromptTemplate(prompt=PromptTemplate(input_variables=['input'], input_types={}, partial_variables={}, template='{input}'), additional_kwargs={}), MessagesPlaceholder(variable_name='agent_scratchpad')])"
      ]
     },
     "execution_count": 34,
     "metadata": {},
     "output_type": "execute_result"
    }
   ],
   "source": [
    "prompt = hub.pull(\"hwchase17/openai-functions-agent\")\n",
    "prompt"
   ]
  },
  {
   "cell_type": "code",
   "execution_count": 9,
   "metadata": {},
   "outputs": [
    {
     "name": "stdout",
     "output_type": "stream",
     "text": [
      "[system]: You are a helpful assistant\n",
      "[human]: hello\n",
      "[ai]: hi\n",
      "[human]: Roll 5d6\n"
     ]
    }
   ],
   "source": [
    "tmp = prompt.invoke({'input':'Roll 5d6',\n",
    "                      'chat_history':[{'role':'human', 'content':'hello'},\n",
    "                                        {'role':'ai', 'content':'hi'}],\n",
    "                      'agent_scratchpad':[]})\n",
    "\n",
    "for msg in tmp.messages:\n",
    "    print(f'[{msg.type}]: {msg.content}')"
   ]
  },
  {
   "cell_type": "markdown",
   "metadata": {},
   "source": [
    "Use AI Agent"
   ]
  },
  {
   "cell_type": "code",
   "execution_count": 45,
   "metadata": {},
   "outputs": [],
   "source": [
    "# Create an OpenAI Functions agent\n",
    "agent = create_openai_functions_agent(llm=llm, tools=tools, prompt=prompt)\n",
    "# Create an agent executor\n",
    "agent_executor = AgentExecutor.from_agent_and_tools(agent=agent,tools=tools,verbose=True)"
   ]
  },
  {
   "cell_type": "code",
   "execution_count": 37,
   "metadata": {},
   "outputs": [
    {
     "name": "stdout",
     "output_type": "stream",
     "text": [
      "\n",
      "\n",
      "\u001b[1m> Entering new AgentExecutor chain...\u001b[0m\n",
      "\u001b[32;1m\u001b[1;3m\n",
      "Invoking: `rolld6` with `{}`\n",
      "\n",
      "\n",
      "\u001b[0m\u001b[36;1m\u001b[1;3m2\u001b[0m\u001b[32;1m\u001b[1;3m\n",
      "Invoking: `rolld6` with `{}`\n",
      "\n",
      "\n",
      "\u001b[0m\u001b[36;1m\u001b[1;3m4\u001b[0m\u001b[32;1m\u001b[1;3mThe player rolled a 2, and the NPC rolled a 4. The NPC wins this round!\u001b[0m\n",
      "\n",
      "\u001b[1m> Finished chain.\u001b[0m\n",
      "Question: Player rolls a d6, and NPC rolls a d6. Who wins?\n",
      "Answer: {'input': 'Player rolls a d6, and NPC rolls a d6. Who wins?', 'output': 'The player rolled a 2, and the NPC rolled a 4. The NPC wins this round!'}\n"
     ]
    }
   ],
   "source": [
    "# Test the agent\n",
    "question = \"Player rolls a d6, and NPC rolls a d6. Who wins?\"\n",
    "response = agent_executor.invoke({\"input\": question})\n",
    "print(f\"Question: {question}\")\n",
    "print(f\"Answer: {response}\")"
   ]
  },
  {
   "cell_type": "code",
   "execution_count": 48,
   "metadata": {},
   "outputs": [
    {
     "name": "stdout",
     "output_type": "stream",
     "text": [
      "\n",
      "\n",
      "\u001b[1m> Entering new AgentExecutor chain...\u001b[0m\n",
      "\u001b[32;1m\u001b[1;3m\n",
      "Invoking: `combat` with `{'player_health': 100, 'player_attack': 20, 'npc_health': 200, 'npc_attack': 10}`\n",
      "\n",
      "\n",
      "\u001b[0m\u001b[38;5;200m\u001b[1;3m(85, 179)\u001b[0m\u001b[32;1m\u001b[1;3mThe player wins the combat with 85 health remaining, while the NPC is defeated with 179 health remaining.\u001b[0m\n",
      "\n",
      "\u001b[1m> Finished chain.\u001b[0m\n",
      "Response: {'input': \"Player has 100 health and 20 attack power. NPC has 200 health and 10 attack power. Player fights NPC until one's health reaches zero. Who wins, and how much health do they have left?\", 'output': 'The player wins the combat with 85 health remaining, while the NPC is defeated with 179 health remaining.'}\n"
     ]
    }
   ],
   "source": [
    "scenario = \"Player has 100 health and 20 attack power. NPC has 200 health and 10 attack power. \"\n",
    "question = \"Player fights NPC until one's health reaches zero. Who wins, and how much health do they have left?\"\n",
    "response = agent_executor.invoke({\"input\": scenario+question})\n",
    "print(f\"Response: {response}\")"
   ]
  }
 ],
 "metadata": {
  "kernelspec": {
   "display_name": "cse534",
   "language": "python",
   "name": "python3"
  },
  "language_info": {
   "codemirror_mode": {
    "name": "ipython",
    "version": 3
   },
   "file_extension": ".py",
   "mimetype": "text/x-python",
   "name": "python",
   "nbconvert_exporter": "python",
   "pygments_lexer": "ipython3",
   "version": "3.11.9"
  }
 },
 "nbformat": 4,
 "nbformat_minor": 2
}
