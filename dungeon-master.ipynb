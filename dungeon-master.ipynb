{
 "cells": [
  {
   "cell_type": "markdown",
   "metadata": {},
   "source": [
    "This is the main notebook to design the DnD Dungeon Master"
   ]
  },
  {
   "cell_type": "markdown",
   "metadata": {},
   "source": [
    "Loading all relevant keys:"
   ]
  },
  {
   "cell_type": "code",
   "execution_count": 1,
   "metadata": {},
   "outputs": [],
   "source": [
    "import os\n",
    "from dotenv import load_dotenv\n",
    "\n",
    "load_dotenv()\n",
    "\n",
    "assert 'OPENAI_API_KEY' in os.environ, \"You will need to set an OPENAI_API_KEY\"\n",
    "assert 'LANGCHAIN_API_KEY' in os.environ, \"You will need to set an LANGCHAIN_API_KEY\""
   ]
  },
  {
   "cell_type": "markdown",
   "metadata": {},
   "source": [
    "Importing all relevant libraries:"
   ]
  },
  {
   "cell_type": "code",
   "execution_count": 2,
   "metadata": {},
   "outputs": [],
   "source": [
    "from langchain.agents import create_openai_functions_agent\n",
    "from langchain_openai import ChatOpenAI\n",
    "from langchain_core.tools import tool\n",
    "from langchain.chains import LLMMathChain\n",
    "from langchain.prompts import PromptTemplate\n",
    "from langchain import hub\n",
    "from langchain.agents import AgentExecutor\n",
    "\n",
    "import random"
   ]
  },
  {
   "cell_type": "markdown",
   "metadata": {},
   "source": [
    "Specification from Canvas:\n",
    "\n",
    "Project Requirements\n",
    "\n",
    "World Memory: Implement persistent storage of state for each location. The AI must recognize when players revisit a location and present an updated description reflecting prior actions.\n",
    "\n",
    "Map Generation and Navigation: The AI should create and maintain a coherent map of connected locations, ensuring logical placement and connections.\n",
    "\n",
    "Dynamic Descriptions and Interactions: Generate unique descriptions and manage NPC or item states dynamically, adapting based on player actions.\n",
    "Randomized Location Descriptions and Encounters: When players enter a new location, the AI generates a fresh, random description consistent with nearby areas and may spawn new NPCs or items. This allows each exploration to feel novel and immersive while maintaining a coherent world.\n",
    "\n",
    "Simplified D&D Mechanics: Use a streamlined set of D&D-inspired mechanics (detailed below) to guide the AI’s decisions and narration for combat, exploration, and interactions."
   ]
  },
  {
   "cell_type": "markdown",
   "metadata": {},
   "source": [
    "DnD Simplified Mechanics:\n",
    "\n",
    "NPC Interaction and Combat\n",
    "NPCs have two attributes: Health Points (HP) and Attack Power.\n",
    "Combat: When players engage in combat, each side rolls a virtual 1d6 (a six-sided die) and adds it to their Attack Power to determine damage for that turn.\n",
    "\n",
    "Victory Conditions: The player wins if the NPC’s HP reaches zero, and loses if their own HP does.\n",
    "Skill Checks and Random Outcomes\n",
    "When players attempt a risky action (e.g., unlocking a door), the AI rolls a 1d10 (a ten-sided die) for a skill check.\n",
    "For simple tasks, a roll of 3 or higher succeeds.\n",
    "For challenging tasks, a roll of 6 or higher is needed.\n",
    "Descriptions should vary based on success or failure, giving the interaction a creative touch.\n",
    "\n",
    "Inventory and Simple Item Use\n",
    "Players can pick up and use basic items like keys or healing potions.\n",
    "Items: Each item has a single effect—e.g., a potion heals 10 HP, a key unlocks a specific door.\n",
    "The AI remembers which items have been used or taken to manage inventory without complex tracking.\n",
    "\n",
    "Experience Points and Leveling (Optional)\n",
    "Players can gain Experience Points (XP) for completing significant actions or defeating NPCs.\n",
    "When players reach 50 XP, they \"level up,\" gaining a small HP increase.\n",
    "This provides a sense of progression with minimal complexity."
   ]
  },
  {
   "cell_type": "code",
   "execution_count": 3,
   "metadata": {},
   "outputs": [],
   "source": [
    "@tool\n",
    "def rolld6() -> int:\n",
    "    \"\"\" Roll a six-sided dice\n",
    "    \"\"\"\n",
    "    rand = random.randint(1, 6)\n",
    "    return rand\n",
    "\n",
    "@tool\n",
    "def rolld10() -> int:\n",
    "    \"\"\" Roll a ten-sided dice\n",
    "    \"\"\"\n",
    "    rand = random.randint(1, 10)\n",
    "    return rand\n",
    "\n",
    "@tool\n",
    "def attack(attacker_power: int, defender_health: int) -> int:\n",
    "    \"\"\" Attacker attacks the defender and check defener health\n",
    "    args:\n",
    "        attacker_power: power of the attack from the attacker\n",
    "        defender_health: health of the defender\n",
    "    \"\"\"\n",
    "    attacker_roll = rolld6({})\n",
    "    attacker_trueap = attacker_power + attacker_roll\n",
    "    defender_health -= attacker_trueap\n",
    "\n",
    "    return defender_health\n",
    "\n",
    "tools = [rolld6, rolld10, attack]"
   ]
  },
  {
   "cell_type": "markdown",
   "metadata": {},
   "source": [
    "State Persistence\n",
    "\n",
    "The AI must track and remember states for each location and NPC to maintain continuity. This includes:\n",
    "\n",
    "Location State: Track if a door is unlocked, a chest is opened, or an item has been taken.\n",
    "\n",
    "NPC Status: Remember if NPCs have been defeated, moved, or interacted with.\n",
    "\n",
    "Inventory: Track items players possess and mark items as “used” once they’re applied (e.g., a used key).\n",
    "\n",
    "Player Stats: Keep player attributes like HP, XP, and inventory status persistent across moves.\n"
   ]
  },
  {
   "cell_type": "markdown",
   "metadata": {},
   "source": [
    "Map Representation\n",
    "\n",
    "The map is a logical grid or node-based structure, where each “node” represents a unique location.\n",
    "\n",
    "Location Connections: Each node includes connections to adjacent locations (e.g., north, south, east, west).\n",
    "\n",
    "Unique Descriptions and Random Encounters: Each time players enter a new node, the AI generates a fresh description that is contextually consistent with nearby areas. The AI may also spawn random NPCs or items, creating an immersive experience while ensuring coherence.\n",
    "\n",
    "NPC and Item Placement: Each node may contain NPCs or items, which the AI can add or remove based on player actions."
   ]
  },
  {
   "cell_type": "markdown",
   "metadata": {},
   "source": [
    "GRADUATE STUDENT:\n",
    "Graduate students are required to implement additional features to expand the AI’s storytelling capabilities:\n",
    "\n",
    "Text-to-Speech (TTS): Add a TTS system to narrate the AI-generated descriptions and interactions, enhancing the immersive experience.\n",
    "\n",
    "Image Generation: Integrate a simple image generation model to create visual representations of locations or key events, adding a visual storytelling element to the text-based game."
   ]
  },
  {
   "cell_type": "code",
   "execution_count": 4,
   "metadata": {},
   "outputs": [],
   "source": [
    "llm = ChatOpenAI(temperature = 0, model='gpt-3.5-turbo-1106')"
   ]
  },
  {
   "cell_type": "markdown",
   "metadata": {},
   "source": [
    "Prompt Template"
   ]
  },
  {
   "cell_type": "code",
   "execution_count": 30,
   "metadata": {},
   "outputs": [
    {
     "data": {
      "text/plain": [
       "ChatPromptTemplate(input_variables=['agent_scratchpad', 'input'], optional_variables=['chat_history'], input_types={'chat_history': list[typing.Annotated[typing.Union[typing.Annotated[langchain_core.messages.ai.AIMessage, Tag(tag='ai')], typing.Annotated[langchain_core.messages.human.HumanMessage, Tag(tag='human')], typing.Annotated[langchain_core.messages.chat.ChatMessage, Tag(tag='chat')], typing.Annotated[langchain_core.messages.system.SystemMessage, Tag(tag='system')], typing.Annotated[langchain_core.messages.function.FunctionMessage, Tag(tag='function')], typing.Annotated[langchain_core.messages.tool.ToolMessage, Tag(tag='tool')], typing.Annotated[langchain_core.messages.ai.AIMessageChunk, Tag(tag='AIMessageChunk')], typing.Annotated[langchain_core.messages.human.HumanMessageChunk, Tag(tag='HumanMessageChunk')], typing.Annotated[langchain_core.messages.chat.ChatMessageChunk, Tag(tag='ChatMessageChunk')], typing.Annotated[langchain_core.messages.system.SystemMessageChunk, Tag(tag='SystemMessageChunk')], typing.Annotated[langchain_core.messages.function.FunctionMessageChunk, Tag(tag='FunctionMessageChunk')], typing.Annotated[langchain_core.messages.tool.ToolMessageChunk, Tag(tag='ToolMessageChunk')]], FieldInfo(annotation=NoneType, required=True, discriminator=Discriminator(discriminator=<function _get_type at 0x000001FFAA009120>, custom_error_type=None, custom_error_message=None, custom_error_context=None))]], 'agent_scratchpad': list[typing.Annotated[typing.Union[typing.Annotated[langchain_core.messages.ai.AIMessage, Tag(tag='ai')], typing.Annotated[langchain_core.messages.human.HumanMessage, Tag(tag='human')], typing.Annotated[langchain_core.messages.chat.ChatMessage, Tag(tag='chat')], typing.Annotated[langchain_core.messages.system.SystemMessage, Tag(tag='system')], typing.Annotated[langchain_core.messages.function.FunctionMessage, Tag(tag='function')], typing.Annotated[langchain_core.messages.tool.ToolMessage, Tag(tag='tool')], typing.Annotated[langchain_core.messages.ai.AIMessageChunk, Tag(tag='AIMessageChunk')], typing.Annotated[langchain_core.messages.human.HumanMessageChunk, Tag(tag='HumanMessageChunk')], typing.Annotated[langchain_core.messages.chat.ChatMessageChunk, Tag(tag='ChatMessageChunk')], typing.Annotated[langchain_core.messages.system.SystemMessageChunk, Tag(tag='SystemMessageChunk')], typing.Annotated[langchain_core.messages.function.FunctionMessageChunk, Tag(tag='FunctionMessageChunk')], typing.Annotated[langchain_core.messages.tool.ToolMessageChunk, Tag(tag='ToolMessageChunk')]], FieldInfo(annotation=NoneType, required=True, discriminator=Discriminator(discriminator=<function _get_type at 0x000001FFAA009120>, custom_error_type=None, custom_error_message=None, custom_error_context=None))]]}, partial_variables={'chat_history': []}, metadata={'lc_hub_owner': 'hwchase17', 'lc_hub_repo': 'openai-functions-agent', 'lc_hub_commit_hash': 'a1655024b06afbd95d17449f21316291e0726f13dcfaf990cc0d18087ad689a5'}, messages=[SystemMessagePromptTemplate(prompt=PromptTemplate(input_variables=[], input_types={}, partial_variables={}, template='You are a helpful assistant'), additional_kwargs={}), MessagesPlaceholder(variable_name='chat_history', optional=True), HumanMessagePromptTemplate(prompt=PromptTemplate(input_variables=['input'], input_types={}, partial_variables={}, template='{input}'), additional_kwargs={}), MessagesPlaceholder(variable_name='agent_scratchpad')])"
      ]
     },
     "execution_count": 5,
     "metadata": {},
     "output_type": "execute_result"
    }
   ],
   "source": [
    "prompt = hub.pull(\"hwchase17/openai-functions-agent\")\n",
    "prompt"
   ]
  },
  {
   "cell_type": "markdown",
   "metadata": {},
   "source": [
    "Use AI Agent"
   ]
  },
  {
   "cell_type": "code",
   "execution_count": 6,
   "metadata": {},
   "outputs": [],
   "source": [
    "# Create an OpenAI Functions agent\n",
    "agent = create_openai_functions_agent(llm, tools, prompt=prompt)\n",
    "# Create an agent executor\n",
    "agent_executor = AgentExecutor.from_agent_and_tools(agent=agent,tools=tools,verbose=True, max_iteration=50, max_execution_time=50)"
   ]
  },
  {
   "cell_type": "code",
   "execution_count": 7,
   "metadata": {},
   "outputs": [
    {
     "name": "stdout",
     "output_type": "stream",
     "text": [
      "\n",
      "\n",
      "\u001b[1m> Entering new AgentExecutor chain...\u001b[0m\n",
      "\u001b[32;1m\u001b[1;3m\n",
      "Invoking: `rolld6` with `{}`\n",
      "\n",
      "\n",
      "\u001b[0m\u001b[36;1m\u001b[1;3m3\u001b[0m\u001b[32;1m\u001b[1;3m\n",
      "Invoking: `rolld6` with `{}`\n",
      "\n",
      "\n",
      "\u001b[0m\u001b[36;1m\u001b[1;3m6\u001b[0m\u001b[32;1m\u001b[1;3mThe player rolled a 3, and the NPC rolled a 6. The NPC wins this round!\u001b[0m\n",
      "\n",
      "\u001b[1m> Finished chain.\u001b[0m\n",
      "Question: Player rolls a d6, and NPC rolls a d6. Who wins?\n",
      "Answer: {'input': 'Player rolls a d6, and NPC rolls a d6. Who wins?', 'output': 'The player rolled a 3, and the NPC rolled a 6. The NPC wins this round!'}\n"
     ]
    }
   ],
   "source": [
    "# Test the agent\n",
    "question = \"Player rolls a d6, and NPC rolls a d6. Who wins?\"\n",
    "response = agent_executor.invoke({\"input\": question})\n",
    "print(f\"Question: {question}\")\n",
    "print(f\"Answer: {response}\")"
   ]
  },
  {
   "cell_type": "code",
   "execution_count": null,
   "metadata": {},
   "outputs": [],
   "source": [
    "scenario = \"\"\"\n",
    "    You are a Dungeon Master in a custom DnD game.\n",
    "    To create a combat scenario, roll and combine results of 2 d10 to get health, and roll a d6 to get attack power. Do this for player and npc separately.\n",
    "    Before combat starts, you must print out the player and npc stats (health and attack power) in the response.\n",
    "    In combat, player and npc takes turn attacking each other.\n",
    "    Remember player and npc health separately.\n",
    "    You must use the attack tool to simulate attack.\n",
    "    Print out each individual attack, specifically who's the attacker, and how much health does defender have.\n",
    "    Combat ends when either player or npc health reaches or below 0.\n",
    "    After combat ends, announce the winner.\n",
    "    Outside of combat, whenever players reach a special scenario that requires skill check, the player will be rolling a d10. Roll with the given tool.\n",
    "    For simple tasks, the player succeeds when they roll 3 or higher.\n",
    "    For hard tasks, the player succeeds when they roll 7 or higher.\n",
    "\"\"\""
   ]
  },
  {
   "cell_type": "code",
   "execution_count": 9,
   "metadata": {},
   "outputs": [
    {
     "name": "stdout",
     "output_type": "stream",
     "text": [
      "\n",
      "\n",
      "\u001b[1m> Entering new AgentExecutor chain...\u001b[0m\n",
      "\u001b[32;1m\u001b[1;3m\n",
      "Invoking: `rolld10` with `{}`\n",
      "\n",
      "\n",
      "\u001b[0m\u001b[33;1m\u001b[1;3m7\u001b[0m\u001b[32;1m\u001b[1;3m\n",
      "Invoking: `rolld10` with `{}`\n",
      "\n",
      "\n",
      "\u001b[0m\u001b[33;1m\u001b[1;3m10\u001b[0m\u001b[32;1m\u001b[1;3m\n",
      "Invoking: `rolld6` with `{}`\n",
      "\n",
      "\n",
      "\u001b[0m\u001b[36;1m\u001b[1;3m2\u001b[0m\u001b[32;1m\u001b[1;3m\n",
      "Invoking: `rolld10` with `{}`\n",
      "\n",
      "\n",
      "\u001b[0m\u001b[33;1m\u001b[1;3m9\u001b[0m\u001b[32;1m\u001b[1;3m\n",
      "Invoking: `rolld6` with `{}`\n",
      "\n",
      "\n",
      "\u001b[0m\u001b[36;1m\u001b[1;3m5\u001b[0m\u001b[32;1m\u001b[1;3m\n",
      "Invoking: `attack` with `{'attacker_power': 50, 'defender_health': 200}`\n",
      "\n",
      "\n",
      "\u001b[0m\u001b[38;5;200m\u001b[1;3m149\u001b[0m"
     ]
    },
    {
     "name": "stderr",
     "output_type": "stream",
     "text": [
      "C:\\Users\\longd\\AppData\\Local\\Temp\\ipykernel_23272\\1164996923.py:22: LangChainDeprecationWarning: The method `BaseTool.__call__` was deprecated in langchain-core 0.1.47 and will be removed in 1.0. Use :meth:`~invoke` instead.\n",
      "  attacker_roll = rolld6({})\n"
     ]
    },
    {
     "name": "stdout",
     "output_type": "stream",
     "text": [
      "\u001b[32;1m\u001b[1;3m\n",
      "Invoking: `attack` with `{'attacker_power': 30, 'defender_health': 100}`\n",
      "\n",
      "\n",
      "\u001b[0m\u001b[38;5;200m\u001b[1;3m64\u001b[0m\u001b[32;1m\u001b[1;3m\n",
      "Invoking: `attack` with `{'attacker_power': 50, 'defender_health': 170}`\n",
      "\n",
      "\n",
      "\u001b[0m\u001b[38;5;200m\u001b[1;3m115\u001b[0m\u001b[32;1m\u001b[1;3m\n",
      "Invoking: `attack` with `{'attacker_power': 30, 'defender_health': 100}`\n",
      "\n",
      "\n",
      "\u001b[0m\u001b[38;5;200m\u001b[1;3m64\u001b[0m\u001b[32;1m\u001b[1;3m\n",
      "Invoking: `attack` with `{'attacker_power': 50, 'defender_health': 140}`\n",
      "\n",
      "\n",
      "\u001b[0m\u001b[38;5;200m\u001b[1;3m87\u001b[0m\u001b[32;1m\u001b[1;3m\n",
      "Invoking: `attack` with `{'attacker_power': 30, 'defender_health': 100}`\n",
      "\n",
      "\n",
      "\u001b[0m\u001b[38;5;200m\u001b[1;3m66\u001b[0m\u001b[32;1m\u001b[1;3m\n",
      "Invoking: `attack` with `{'attacker_power': 50, 'defender_health': 110}`\n",
      "\n",
      "\n",
      "\u001b[0m\u001b[38;5;200m\u001b[1;3m56\u001b[0m\u001b[32;1m\u001b[1;3m\n",
      "Invoking: `attack` with `{'attacker_power': 30, 'defender_health': 100}`\n",
      "\n",
      "\n",
      "\u001b[0m\u001b[38;5;200m\u001b[1;3m66\u001b[0m\u001b[32;1m\u001b[1;3m\n",
      "Invoking: `attack` with `{'attacker_power': 50, 'defender_health': 80}`\n",
      "\n",
      "\n",
      "\u001b[0m\u001b[38;5;200m\u001b[1;3m27\u001b[0m\u001b[32;1m\u001b[1;3m\n",
      "Invoking: `attack` with `{'attacker_power': 30, 'defender_health': 100}`\n",
      "\n",
      "\n",
      "\u001b[0m\u001b[38;5;200m\u001b[1;3m69\u001b[0m\u001b[32;1m\u001b[1;3m\u001b[0m\n",
      "\n",
      "\u001b[1m> Finished chain.\u001b[0m\n",
      "Response: Agent stopped due to iteration limit or time limit.\n"
     ]
    }
   ],
   "source": [
    "\n",
    "question = \"Player has 100 health and 50 attack power. NPC has 200 health and 30 attack power. Player fights NPC. Who wins, and how much health do they have left?\"\n",
    "response = agent_executor.invoke({\"input\": scenario+question})\n",
    "print(f\"Response: {response['output']}\")"
   ]
  },
  {
   "cell_type": "code",
   "execution_count": 10,
   "metadata": {},
   "outputs": [
    {
     "name": "stdout",
     "output_type": "stream",
     "text": [
      "\n",
      "\n",
      "\u001b[1m> Entering new AgentExecutor chain...\u001b[0m\n",
      "\u001b[32;1m\u001b[1;3m\n",
      "Invoking: `rolld10` with `{}`\n",
      "\n",
      "\n",
      "\u001b[0m\u001b[33;1m\u001b[1;3m3\u001b[0m\u001b[32;1m\u001b[1;3m\n",
      "Invoking: `rolld10` with `{}`\n",
      "\n",
      "\n",
      "\u001b[0m\u001b[33;1m\u001b[1;3m5\u001b[0m\u001b[32;1m\u001b[1;3m\n",
      "Invoking: `rolld6` with `{}`\n",
      "\n",
      "\n",
      "\u001b[0m\u001b[36;1m\u001b[1;3m2\u001b[0m\u001b[32;1m\u001b[1;3m\n",
      "Invoking: `rolld10` with `{}`\n",
      "\n",
      "\n",
      "\u001b[0m\u001b[33;1m\u001b[1;3m3\u001b[0m\u001b[32;1m\u001b[1;3m\n",
      "Invoking: `rolld10` with `{}`\n",
      "\n",
      "\n",
      "\u001b[0m\u001b[33;1m\u001b[1;3m10\u001b[0m\u001b[32;1m\u001b[1;3m\n",
      "Invoking: `rolld6` with `{}`\n",
      "\n",
      "\n",
      "\u001b[0m\u001b[36;1m\u001b[1;3m5\u001b[0m\u001b[32;1m\u001b[1;3m\n",
      "Invoking: `attack` with `{'attacker_power': 2, 'defender_health': 13}`\n",
      "\n",
      "\n",
      "\u001b[0m\u001b[38;5;200m\u001b[1;3m6\u001b[0m\u001b[32;1m\u001b[1;3m\n",
      "Invoking: `attack` with `{'attacker_power': 3, 'defender_health': 13}`\n",
      "\n",
      "\n",
      "\u001b[0m\u001b[38;5;200m\u001b[1;3m9\u001b[0m\u001b[32;1m\u001b[1;3m\n",
      "Invoking: `attack` with `{'attacker_power': 2, 'defender_health': 11}`\n",
      "\n",
      "\n",
      "\u001b[0m\u001b[38;5;200m\u001b[1;3m7\u001b[0m\u001b[32;1m\u001b[1;3m\n",
      "Invoking: `attack` with `{'attacker_power': 3, 'defender_health': 11}`\n",
      "\n",
      "\n",
      "\u001b[0m\u001b[38;5;200m\u001b[1;3m5\u001b[0m\u001b[32;1m\u001b[1;3m\n",
      "Invoking: `attack` with `{'attacker_power': 2, 'defender_health': 9}`\n",
      "\n",
      "\n",
      "\u001b[0m\u001b[38;5;200m\u001b[1;3m2\u001b[0m\u001b[32;1m\u001b[1;3m\n",
      "Invoking: `attack` with `{'attacker_power': 3, 'defender_health': 9}`\n",
      "\n",
      "\n",
      "\u001b[0m\u001b[38;5;200m\u001b[1;3m3\u001b[0m\u001b[32;1m\u001b[1;3m\n",
      "Invoking: `attack` with `{'attacker_power': 2, 'defender_health': 6}`\n",
      "\n",
      "\n",
      "\u001b[0m\u001b[38;5;200m\u001b[1;3m-2\u001b[0m\u001b[32;1m\u001b[1;3m\n",
      "Invoking: `attack` with `{'attacker_power': 3, 'defender_health': 6}`\n",
      "\n",
      "\n",
      "\u001b[0m\u001b[38;5;200m\u001b[1;3m-1\u001b[0m\u001b[32;1m\u001b[1;3mThe combat scenario is as follows:\n",
      "\n",
      "Player Stats:\n",
      "- Health: 8\n",
      "- Attack Power: 2\n",
      "\n",
      "NPC Stats:\n",
      "- Health: 13\n",
      "- Attack Power: 3\n",
      "\n",
      "Combat Log:\n",
      "- Player attacks NPC for 2 damage. NPC health: 13 - 2 = 11\n",
      "- NPC attacks Player for 3 damage. Player health: 8 - 3 = 5\n",
      "- Player attacks NPC for 2 damage. NPC health: 11 - 2 = 9\n",
      "- NPC attacks Player for 3 damage. Player health: 5 - 3 = 2\n",
      "- Player attacks NPC for 2 damage. NPC health: 9 - 2 = 7\n",
      "- NPC attacks Player for 3 damage. Player health: 2 - 3 = -1\n",
      "\n",
      "Winner: NPC\n",
      "\n",
      "The combat has ended, and the NPC emerges victorious!\u001b[0m\n",
      "\n",
      "\u001b[1m> Finished chain.\u001b[0m\n",
      "Response: The combat scenario is as follows:\n",
      "\n",
      "Player Stats:\n",
      "- Health: 8\n",
      "- Attack Power: 2\n",
      "\n",
      "NPC Stats:\n",
      "- Health: 13\n",
      "- Attack Power: 3\n",
      "\n",
      "Combat Log:\n",
      "- Player attacks NPC for 2 damage. NPC health: 13 - 2 = 11\n",
      "- NPC attacks Player for 3 damage. Player health: 8 - 3 = 5\n",
      "- Player attacks NPC for 2 damage. NPC health: 11 - 2 = 9\n",
      "- NPC attacks Player for 3 damage. Player health: 5 - 3 = 2\n",
      "- Player attacks NPC for 2 damage. NPC health: 9 - 2 = 7\n",
      "- NPC attacks Player for 3 damage. Player health: 2 - 3 = -1\n",
      "\n",
      "Winner: NPC\n",
      "\n",
      "The combat has ended, and the NPC emerges victorious!\n"
     ]
    }
   ],
   "source": [
    "question = \"Can you write me a combat scenario then execute the combat?\"\n",
    "response = agent_executor.invoke({\"input\": scenario+question})\n",
    "print(f\"Response: {response['output']}\")\n"
   ]
  },
  {
   "cell_type": "code",
   "execution_count": 11,
   "metadata": {},
   "outputs": [],
   "source": [
    "import numpy as np\n",
    "import random\n",
    "#Create an empty map\n",
    "mapsize = 5\n",
    "grid = np.empty((mapsize, mapsize), dtype=object)\n",
    "for i in range(mapsize):\n",
    "    for j in range(mapsize):\n",
    "        grid[i, j] = {\"Description\": \"Unknown\", \"NPCs\": [], \"Items\": [], \"Doors\": [], \"Chests\": []}\n",
    "# Define Player Information\n",
    "player = {\"Inventory\":[], \"Health\":100, \"XP\":0, \"Attack_Power\":10}\n",
    "#Select a random starting position\n",
    "currentLocation = [random.randint(0, mapsize-1), random.randint(0, mapsize-1)]"
   ]
  },
  {
   "cell_type": "code",
   "execution_count": 91,
   "metadata": {},
   "outputs": [],
   "source": [
    " \n",
    "def moveRoom(direction):\n",
    "    if direction == 'North':\n",
    "        currentLocation[0] = currentLocation[0] + 1\n",
    "    if direction == 'South':\n",
    "        currentLocation[0] = currentLocation[0] - 1\n",
    "    if direction == 'East':\n",
    "        currentLocation[1] = currentLocation[1] + 1\n",
    "    if direction == 'West':\n",
    "        currentLocation[1] = currentLocation[1] - 1\n",
    "    print(grid[currentLocation])\n",
    "    if grid[currentLocation[0]][currentLocation[1]][\"Description\"] == \"Unknown\":\n",
    "        generateRoom()"
   ]
  },
  {
   "cell_type": "code",
   "execution_count": null,
   "metadata": {},
   "outputs": [],
   "source": [
    "def generateRoom():\n",
    "        #NEED TO IMPROVE PROMPTS\n",
    "        #Generate Description of the room\n",
    "        question = \"\"\"Write a description for a room in a dnd dungeon\n",
    "                example: The room is dark with stone walls and floors lit by torches on the walls\n",
    "        \"\"\"\n",
    "        response = agent_executor.invoke({\"input\": question})\n",
    "        grid[currentLocation[0]][currentLocation[1]][\"Description\"] = response[\"output\"]\n",
    "        #Generate any items\n",
    "        items = random.randint(0,2)\n",
    "        question = f\"Generate {items} number of items for a dnd dungeon, example: key, sword, potion\"\n",
    "        response = agent_executor.invoke({\"input\": question})\n",
    "        grid[currentLocation[0]][currentLocation[1]][\"Items\"] = response[\"output\"]\n",
    "        #Generate any NPCs\n",
    "        npcs = random.randint(0,1)\n",
    "        question = f\"Generate {npcs} number of npcs for a dnd dungeon. examples: mysterious wizard,large skeleton \"\n",
    "        response = agent_executor.invoke({\"input\": question})\n",
    "        grid[currentLocation[0]][currentLocation[1]][\"NPCs\"] = response[\"output\"]\n",
    "\n",
    "        print(grid[currentLocation[0]][currentLocation[1]])"
   ]
  },
  {
   "cell_type": "code",
   "execution_count": 7,
   "metadata": {},
   "outputs": [],
   "source": [
    "from matplotlib import pyplot as plt\n",
    "from matplotlib import colors\n",
    "import numpy as np\n",
    "def printMap():\n",
    "  grid_data = np.zeros((mapsize, mapsize))  # Initialize with 0s (grey)\n",
    "\n",
    "  for i in range(mapsize):\n",
    "    for j in range(mapsize):\n",
    "      if grid[i, j][\"Description\"] != \"Unknown\":\n",
    "        grid_data[i, j] = 1  # Set to 1 (red) for known descriptions\n",
    "\n",
    "  cmap = colors.ListedColormap(['gray', 'red']) # Define colormap\n",
    "  plt.figure(figsize=(6, 6))\n",
    "  plt.pcolor(grid_data[::1],cmap=cmap,edgecolors='k', linewidths=3)\n",
    "  plt.title(\"Dungeon Grid\")\n",
    "\n",
    "\n",
    "  # Add a black circle at the current location\n",
    "  plt.scatter(currentLocation[1]+0.5, currentLocation[0]+0.5, s=100, c='black', marker='o')\n",
    "\n",
    "  plt.show()\n"
   ]
  },
  {
   "cell_type": "code",
   "execution_count": 89,
   "metadata": {},
   "outputs": [
    {
     "name": "stdout",
     "output_type": "stream",
     "text": [
      "[[{'Description': 'Unknown', 'NPCs': [], 'Items': [], 'Doors': [], 'Chests': []}\n",
      "  {'Description': 'Unknown', 'NPCs': [], 'Items': [], 'Doors': [], 'Chests': []}\n",
      "  {'Description': 'Unknown', 'NPCs': [], 'Items': [], 'Doors': [], 'Chests': []}\n",
      "  {'Description': 'Unknown', 'NPCs': [], 'Items': [], 'Doors': [], 'Chests': []}\n",
      "  {'Description': 'Unknown', 'NPCs': [], 'Items': [], 'Doors': [], 'Chests': []}]\n",
      " [{'Description': 'Unknown', 'NPCs': [], 'Items': [], 'Doors': [], 'Chests': []}\n",
      "  {'Description': 'Unknown', 'NPCs': [], 'Items': [], 'Doors': [], 'Chests': []}\n",
      "  {'Description': 'Unknown', 'NPCs': [], 'Items': [], 'Doors': [], 'Chests': []}\n",
      "  {'Description': 'Unknown', 'NPCs': [], 'Items': [], 'Doors': [], 'Chests': []}\n",
      "  {'Description': 'Unknown', 'NPCs': [], 'Items': [], 'Doors': [], 'Chests': []}]]\n",
      "\n",
      "\n",
      "\u001b[1m> Entering new AgentExecutor chain...\u001b[0m\n",
      "\u001b[32;1m\u001b[1;3mThe room is dimly lit with flickering torches mounted on the walls, casting dancing shadows across the stone floor. The air is heavy with the scent of damp earth, and the sound of dripping water echoes through the chamber. Cracked pillars support the low ceiling, and ancient runes are etched into the walls, their meaning lost to time. A sense of foreboding fills the room, as if unseen eyes are watching from the darkness.\u001b[0m\n",
      "\n",
      "\u001b[1m> Finished chain.\u001b[0m\n",
      "\n",
      "\n",
      "\u001b[1m> Entering new AgentExecutor chain...\u001b[0m\n",
      "\u001b[32;1m\u001b[1;3m\n",
      "Invoking: `rolld6` with `{}`\n",
      "\n",
      "\n",
      "\u001b[0m\u001b[36;1m\u001b[1;3m2\u001b[0m\u001b[32;1m\u001b[1;3mHere are 2 items for the DND dungeon:\n",
      "1. Potion of Healing\n",
      "2. Scroll of Fireball\u001b[0m\n",
      "\n",
      "\u001b[1m> Finished chain.\u001b[0m\n",
      "\n",
      "\n",
      "\u001b[1m> Entering new AgentExecutor chain...\u001b[0m\n",
      "\u001b[32;1m\u001b[1;3m\n",
      "Invoking: `rolld6` with `{}`\n",
      "responded: Rolling a d6 to determine the type of NPC...\n",
      "\n",
      "\u001b[0m\u001b[36;1m\u001b[1;3m1\u001b[0m\u001b[32;1m\u001b[1;3mThe NPC for the DND dungeon is a mysterious wizard.\u001b[0m\n",
      "\n",
      "\u001b[1m> Finished chain.\u001b[0m\n",
      "{'Description': 'The room is dimly lit with flickering torches mounted on the walls, casting dancing shadows across the stone floor. The air is heavy with the scent of damp earth, and the sound of dripping water echoes through the chamber. Cracked pillars support the low ceiling, and ancient runes are etched into the walls, their meaning lost to time. A sense of foreboding fills the room, as if unseen eyes are watching from the darkness.', 'NPCs': 'The NPC for the DND dungeon is a mysterious wizard.', 'Items': 'Here are 2 items for the DND dungeon:\\n1. Potion of Healing\\n2. Scroll of Fireball', 'Doors': [], 'Chests': []}\n"
     ]
    }
   ],
   "source": [
    "moveRoom(\"West\")"
   ]
  },
  {
   "cell_type": "code",
   "execution_count": null,
   "metadata": {},
   "outputs": [],
   "source": [
    "import pickle\n",
    "\n",
    "def save():\n",
    "    with open('memory.pkl', 'wb') as file:\n",
    "        pickle.dump(player, file)\n",
    "        pickle.dump(grid, file)\n",
    "        pickle.dump(currentLocation, file)\n",
    "\n",
    "def load():\n",
    "    with open('memory.pkl','rb') as file:\n",
    "        player = pickle.load(file)\n",
    "        grid = pickle.load(file)\n",
    "        currentLocation = pickle.load(file)"
   ]
  },
  {
   "cell_type": "code",
   "execution_count": 90,
   "metadata": {},
   "outputs": [
    {
     "data": {
      "image/png": "[encoded data removed]",
      "text/plain": [
       "<Figure size 600x600 with 1 Axes>"
      ]
     },
     "metadata": {},
     "output_type": "display_data"
    },
    {
     "name": "stdout",
     "output_type": "stream",
     "text": [
      "{'Description': 'The room is dimly lit with flickering torches mounted on the walls, casting dancing shadows across the stone floor. The air is heavy with the scent of damp earth, and the sound of dripping water echoes through the chamber. Cracked pillars support the low ceiling, and ancient runes are etched into the walls, their meaning lost to time. A sense of foreboding fills the room, as if unseen eyes are watching from the darkness.', 'NPCs': 'The NPC for the DND dungeon is a mysterious wizard.', 'Items': 'Here are 2 items for the DND dungeon:\\n1. Potion of Healing\\n2. Scroll of Fireball', 'Doors': [], 'Chests': []}\n"
     ]
    }
   ],
   "source": [
    "printMap()\n",
    "print(grid[currentLocation[0]][currentLocation[1]])"
   ]
  },
  {
   "cell_type": "code",
   "execution_count": null,
   "metadata": {},
   "outputs": [],
   "source": [
    "context = \"TWith the given scenario, you will be designing a DnD campaign from the start.\"\n",
    "question = \"Can you begin the story?\"\n",
    "response = agent_executor.invoke({\"input\": scenario+context+question})\n",
    "print(f\"Response: {response['output']}\")"
   ]
  }
 ],
 "metadata": {
  "kernelspec": {
   "display_name": "cse434",
   "language": "python",
   "name": "cse434"
  },
  "language_info": {
   "codemirror_mode": {
    "name": "ipython",
    "version": 3
   },
   "file_extension": ".py",
   "mimetype": "text/x-python",
   "name": "python",
   "nbconvert_exporter": "python",
   "pygments_lexer": "ipython3",
   "version": "3.11.9"
  }
 },
 "nbformat": 4,
 "nbformat_minor": 2
}
