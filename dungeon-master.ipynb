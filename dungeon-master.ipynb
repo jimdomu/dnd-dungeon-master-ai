{
 "cells": [
  {
   "cell_type": "markdown",
   "metadata": {},
   "source": [
    "This is the main notebook to design the DnD Dungeon Master"
   ]
  },
  {
   "cell_type": "markdown",
   "metadata": {},
   "source": [
    "Loading all relevant keys:"
   ]
  },
  {
   "cell_type": "code",
   "execution_count": null,
   "metadata": {},
   "outputs": [],
   "source": [
    "import os\n",
    "from dotenv import load_dotenv\n",
    "\n",
    "load_dotenv()\n",
    "\n",
    "assert 'OPENAI_API_KEY' in os.environ, \"You will need to set an OPENAI_API_KEY\"\n",
    "assert 'LANGCHAIN_API_KEY' in os.environ, \"You will need to set an LANGCHAIN_API_KEY\""
   ]
  },
  {
   "cell_type": "markdown",
   "metadata": {},
   "source": [
    "Importing all relevant libraries:"
   ]
  },
  {
   "cell_type": "code",
   "execution_count": null,
   "metadata": {},
   "outputs": [],
   "source": [
    "from langchain.agents import create_openai_functions_agent\n",
    "from langchain_openai import ChatOpenAI\n",
    "from langchain_core.tools import tool\n",
    "from langchain.chains import LLMMathChain\n",
    "from langchain.prompts import PromptTemplate\n",
    "from langchain import hub\n",
    "from langchain.agents import AgentExecutor\n",
    "from langchain_core.messages import AIMessage, HumanMessage\n",
    "\n",
    "from IPython.display import clear_output # FOR CLEAN OUTPUTS ON NOTEBOOK\n",
    "\n",
    "from openai import OpenAI # FOR TTS\n",
    "\n",
    "import random"
   ]
  },
  {
   "cell_type": "markdown",
   "metadata": {},
   "source": [
    "Specification from Canvas:\n",
    "\n",
    "Project Requirements\n",
    "\n",
    "World Memory: Implement persistent storage of state for each location. The AI must recognize when players revisit a location and present an updated description reflecting prior actions.\n",
    "\n",
    "Map Generation and Navigation: The AI should create and maintain a coherent map of connected locations, ensuring logical placement and connections.\n",
    "\n",
    "Dynamic Descriptions and Interactions: Generate unique descriptions and manage NPC or item states dynamically, adapting based on player actions.\n",
    "Randomized Location Descriptions and Encounters: When players enter a new location, the AI generates a fresh, random description consistent with nearby areas and may spawn new NPCs or items. This allows each exploration to feel novel and immersive while maintaining a coherent world.\n",
    "\n",
    "Simplified D&D Mechanics: Use a streamlined set of D&D-inspired mechanics (detailed below) to guide the AI’s decisions and narration for combat, exploration, and interactions."
   ]
  },
  {
   "cell_type": "markdown",
   "metadata": {},
   "source": [
    "DnD Simplified Mechanics:\n",
    "\n",
    "NPC Interaction and Combat\n",
    "NPCs have two attributes: Health Points (HP) and Attack Power.\n",
    "Combat: When players engage in combat, each side rolls a virtual 1d6 (a six-sided die) and adds it to their Attack Power to determine damage for that turn.\n",
    "\n",
    "Victory Conditions: The player wins if the NPC’s HP reaches zero, and loses if their own HP does.\n",
    "Skill Checks and Random Outcomes\n",
    "When players attempt a risky action (e.g., unlocking a door), the AI rolls a 1d10 (a ten-sided die) for a skill check.\n",
    "For simple tasks, a roll of 3 or higher succeeds.\n",
    "For challenging tasks, a roll of 6 or higher is needed.\n",
    "Descriptions should vary based on success or failure, giving the interaction a creative touch.\n",
    "\n",
    "Inventory and Simple Item Use\n",
    "Players can pick up and use basic items like keys or healing potions.\n",
    "Items: Each item has a single effect—e.g., a potion heals 10 HP, a key unlocks a specific door.\n",
    "The AI remembers which items have been used or taken to manage inventory without complex tracking.\n",
    "\n",
    "Experience Points and Leveling (Optional)\n",
    "Players can gain Experience Points (XP) for completing significant actions or defeating NPCs.\n",
    "When players reach 50 XP, they \"level up,\" gaining a small HP increase.\n",
    "This provides a sense of progression with minimal complexity."
   ]
  },
  {
   "cell_type": "code",
   "execution_count": null,
   "metadata": {},
   "outputs": [],
   "source": [
    "@tool\n",
    "def rolld6() -> int:\n",
    "    \"\"\" Roll a six-sided dice\n",
    "    \"\"\"\n",
    "    rand = random.randint(1, 6)\n",
    "    return rand\n",
    "\n",
    "@tool\n",
    "def rolld10() -> int:\n",
    "    \"\"\" Roll a ten-sided dice\n",
    "    \"\"\"\n",
    "    rand = random.randint(1, 10)\n",
    "    return rand\n",
    "\n",
    "@tool\n",
    "def attack(attacker_power: int, defender_health: int) -> int:\n",
    "    \"\"\" Attacker attacks the defender and check defener health\n",
    "    args:\n",
    "        attacker_power: power of the attack from the attacker\n",
    "        defender_health: health of the defender\n",
    "    \"\"\"\n",
    "    attacker_roll = rolld6({})\n",
    "    attacker_trueap = attacker_power + attacker_roll\n",
    "    defender_health -= attacker_trueap\n",
    "\n",
    "    return defender_health\n",
    "\n",
    "tools = [rolld6, rolld10, attack]"
   ]
  },
  {
   "cell_type": "markdown",
   "metadata": {},
   "source": [
    "State Persistence\n",
    "\n",
    "The AI must track and remember states for each location and NPC to maintain continuity. This includes:\n",
    "\n",
    "Location State: Track if a door is unlocked, a chest is opened, or an item has been taken.\n",
    "\n",
    "NPC Status: Remember if NPCs have been defeated, moved, or interacted with.\n",
    "\n",
    "Inventory: Track items players possess and mark items as “used” once they’re applied (e.g., a used key).\n",
    "\n",
    "Player Stats: Keep player attributes like HP, XP, and inventory status persistent across moves.\n"
   ]
  },
  {
   "cell_type": "markdown",
   "metadata": {},
   "source": [
    "Map Representation\n",
    "\n",
    "The map is a logical grid or node-based structure, where each “node” represents a unique location.\n",
    "\n",
    "Location Connections: Each node includes connections to adjacent locations (e.g., north, south, east, west).\n",
    "\n",
    "Unique Descriptions and Random Encounters: Each time players enter a new node, the AI generates a fresh description that is contextually consistent with nearby areas. The AI may also spawn random NPCs or items, creating an immersive experience while ensuring coherence.\n",
    "\n",
    "NPC and Item Placement: Each node may contain NPCs or items, which the AI can add or remove based on player actions."
   ]
  },
  {
   "cell_type": "markdown",
   "metadata": {},
   "source": [
    "GRADUATE STUDENT:\n",
    "Graduate students are required to implement additional features to expand the AI’s storytelling capabilities:\n",
    "\n",
    "Text-to-Speech (TTS): Add a TTS system to narrate the AI-generated descriptions and interactions, enhancing the immersive experience.\n",
    "\n",
    "Image Generation: Integrate a simple image generation model to create visual representations of locations or key events, adding a visual storytelling element to the text-based game."
   ]
  },
  {
   "cell_type": "code",
   "execution_count": null,
   "metadata": {},
   "outputs": [],
   "source": [
    "llm = ChatOpenAI(temperature = 0, model='gpt-3.5-turbo-1106')"
   ]
  },
  {
   "cell_type": "markdown",
   "metadata": {},
   "source": [
    "Prompt Template"
   ]
  },
  {
   "cell_type": "code",
   "execution_count": null,
   "metadata": {},
   "outputs": [],
   "source": [
    "prompt = hub.pull(\"hwchase17/openai-functions-agent\")\n",
    "prompt"
   ]
  },
  {
   "cell_type": "markdown",
   "metadata": {},
   "source": [
    "Use AI Agent"
   ]
  },
  {
   "cell_type": "code",
   "execution_count": null,
   "metadata": {},
   "outputs": [],
   "source": [
    "# Create an OpenAI Functions agent\n",
    "agent = create_openai_functions_agent(llm, tools, prompt=prompt)\n",
    "# Create an agent executor\n",
    "agent_executor = AgentExecutor.from_agent_and_tools(agent=agent,tools=tools,verbose=True, max_iteration=50, max_execution_time=50)"
   ]
  },
  {
   "cell_type": "markdown",
   "metadata": {},
   "source": [
    "Second AI agent to operate TTS and Image Gen\n",
    "\n",
    "Using SimpleAudio to output audio\n",
    "%pip install simpleaudio"
   ]
  },
  {
   "cell_type": "code",
   "execution_count": null,
   "metadata": {},
   "outputs": [],
   "source": [
    "from openai import OpenAI\n",
    "import urllib.request \n",
    "from PIL import Image \n",
    "import simpleaudio as sa\n",
    "client = OpenAI()\n",
    "\n",
    "def GenerateImage(prompt:str):\n",
    "    response = client.images.generate(\n",
    "    model=\"dall-e-3\",\n",
    "    prompt=prompt,\n",
    "    size=\"1024x1024\",\n",
    "    quality=\"standard\",\n",
    "    n=1,\n",
    "    )\n",
    "    image_url = response.data[0].url\n",
    "    urllib.request.urlretrieve(image_url,\"surrounding.png\") \n",
    "    img = Image.open(\"surrounding.png\") \n",
    "    display(img)\n",
    "\n",
    "def TextToSpeech(text:str):\n",
    "    response = client.audio.speech.create(\n",
    "        model=\"tts-1\",\n",
    "        voice=\"echo\", # Best voice in the sample pack\n",
    "        input=text,\n",
    "        response_format=\"wav\",\n",
    "        )\n",
    "    response.write_to_file(\"output.wav\")\n",
    "    wave_obj = sa.WaveObject.from_wave_file(\"output.wav\")\n",
    "    play_obj = wave_obj.play()\n",
    "    play_obj.wait_done()\n",
    "    "
   ]
  },
  {
   "cell_type": "markdown",
   "metadata": {},
   "source": [
    "Main Running Code"
   ]
  },
  {
   "cell_type": "code",
   "execution_count": null,
   "metadata": {},
   "outputs": [],
   "source": [
    "chat_history = []\n",
    "def GetContext(theme:str, character:str):\n",
    "    opening_prompt = \"\"\"You are a DnD Dungeon Master. \n",
    "    You will run a simplified DnD games with given tools for different scenarios.\n",
    "    If the player runs into a scenario that requires skill check, the player will roll a d10.\n",
    "    If the scenario is easy to resolve, they will need 3 or higher.\n",
    "    If the scenario is hard to resolve, they will need 7 or higher.\n",
    "    If the player runs into combat, use the attack tool to operate through combat scenario \n",
    "    where each side (player vs npc) alternate turn to attack until one dies.\n",
    "    You will write a story according to the following theme: {}.\n",
    "    My character is {}\"\"\".format(theme, character)\n",
    "    return opening_prompt\n",
    "\n",
    "def PromptAndResponse(question:str):\n",
    "    response = agent_executor.invoke({\n",
    "        \"input\" : question,\n",
    "        \"chat_history\": chat_history,\n",
    "    })  \n",
    "    chat_history.append(HumanMessage(content=question))\n",
    "    chat_history.append(AIMessage(content=response['output']))\n",
    "\n",
    "    imageContext = agent_executor.invoke({\n",
    "        \"input\" : \"Describe the surrounding in one sentence\",\n",
    "        \"chat_history\" : chat_history,\n",
    "    })\n",
    "\n",
    "    print(f\"Your input: {question}\")\n",
    "    GenerateImage(imageContext['output'])\n",
    "    print(f\"Dungeon Master: {response['output']}\")\n",
    "    TextToSpeech(response['output'])\n",
    "    \n",
    "\n",
    "# Method to get starting prompt and initialize the game\n",
    "def StartGame():\n",
    "    theme = input()\n",
    "    print(\"Please enter your character:\")\n",
    "    #USE TO START THE GAME PROPE\n",
    "    #Create an empty map\n",
    "    mapsize = 5\n",
    "    grid = np.empty((mapsize, mapsize), dtype=object)\n",
    "    for i in range(mapsize):\n",
    "        for j in range(mapsize):\n",
    "            grid[i, j] = {\"Description\": \"Unknown\", \"NPCs\": [], \"Items\": [], \"Doors\": [], \"Chests\": []}\n",
    "    # Define Player Information\n",
    "    player = {\"Inventory\":[], \"Health\":100, \"XP\":0, \"Attack_Power\":10}\n",
    "    #Select a random starting position\n",
    "    currentLocation = [random.randint(0, mapsize-1), random.randint(0, mapsize-1)]\n",
    "    #Check if save exists\n",
    "    if os.path.exists(\"memory.pkl\"):\n",
    "        load()\n",
    "    else:\n",
    "        chat_history = []\n",
    "        print(\"Welcome to Dungeon Intelligence. Please enter the theme of the game:\")\n",
    "        theme = input()\n",
    "        print(\"Please enter your character:\")\n",
    "        character = input()\n",
    "\n",
    "        chat_history.append(GetContext(theme, character))\n",
    "        PromptAndResponse(\"Can you start the game with the given information?\")\n",
    "    "
   ]
  },
  {
   "cell_type": "code",
   "execution_count": null,
   "metadata": {},
   "outputs": [],
   "source": [
    "# Method to play the game and enter game loop\n",
    "def PlayGame():\n",
    "    playing = True\n",
    "\n",
    "    while(playing):\n",
    "        question = input()\n",
    "        clear_output()\n",
    "\n",
    "        if (len(question) < 1):\n",
    "            playing = False\n",
    "            question = \"I am done with the game. Thank you.\"\n",
    "        PromptAndResponse(question)\n",
    "    save()"
   ]
  },
  {
   "cell_type": "code",
   "execution_count": null,
   "metadata": {},
   "outputs": [],
   "source": [
    "StartGame()\n",
    "PlayGame()"
   ]
  },
  {
   "cell_type": "markdown",
   "metadata": {},
   "source": [
    "Mapping code"
   ]
  },
  {
   "cell_type": "code",
   "execution_count": null,
   "metadata": {},
   "outputs": [],
   "source": [
    "import numpy as np\n",
    "import random\n",
    "#Create an empty map\n",
    "mapsize = 5\n",
    "grid = np.empty((mapsize, mapsize), dtype=object)\n",
    "for i in range(mapsize):\n",
    "    for j in range(mapsize):\n",
    "        grid[i, j] = {\"Description\": \"Unknown\", \"NPCs\": [], \"Items\": [], \"Doors\": [], \"Chests\": []}\n",
    "# Define Player Information\n",
    "player = {\"Inventory\":[], \"Health\":100, \"XP\":0, \"Attack_Power\":10}\n",
    "#Select a random starting position\n",
    "currentLocation = [random.randint(0, mapsize-1), random.randint(0, mapsize-1)]"
   ]
  },
  {
   "cell_type": "code",
   "execution_count": null,
   "metadata": {},
   "outputs": [],
   "source": [
    " \n",
    "def moveRoom(direction):\n",
    "    if direction == 'North':\n",
    "        currentLocation[0] = currentLocation[0] + 1\n",
    "    if direction == 'South':\n",
    "        currentLocation[0] = currentLocation[0] - 1\n",
    "    if direction == 'East':\n",
    "        currentLocation[1] = currentLocation[1] + 1\n",
    "    if direction == 'West':\n",
    "        currentLocation[1] = currentLocation[1] - 1\n",
    "    print(grid[currentLocation])\n",
    "    if grid[currentLocation[0]][currentLocation[1]][\"Description\"] == \"Unknown\":\n",
    "        generateRoom()"
   ]
  },
  {
   "cell_type": "code",
   "execution_count": null,
   "metadata": {},
   "outputs": [],
   "source": [
    "def generateRoom():\n",
    "        #NEED TO IMPROVE PROMPTS\n",
    "        #Generate Description of the room\n",
    "        question = \"\"\"Write a description for a room in a dnd dungeon\n",
    "                example: The room is dark with stone walls and floors lit by torches on the walls\n",
    "        \"\"\"\n",
    "        response = agent_executor.invoke({\"input\": question})\n",
    "        grid[currentLocation[0]][currentLocation[1]][\"Description\"] = response[\"output\"]\n",
    "        #Generate any items\n",
    "        items = random.randint(0,2)\n",
    "        question = f\"Generate {items} number of items for a dnd dungeon, example: key, sword, potion\"\n",
    "        response = agent_executor.invoke({\"input\": question})\n",
    "        grid[currentLocation[0]][currentLocation[1]][\"Items\"] = response[\"output\"]\n",
    "        #Generate any NPCs\n",
    "        npcs = random.randint(0,1)\n",
    "        question = f\"Generate {npcs} number of npcs for a dnd dungeon. examples: mysterious wizard,large skeleton \"\n",
    "        response = agent_executor.invoke({\"input\": question})\n",
    "        grid[currentLocation[0]][currentLocation[1]][\"NPCs\"] = response[\"output\"]\n",
    "\n",
    "        print(grid[currentLocation[0]][currentLocation[1]])"
   ]
  },
  {
   "cell_type": "code",
   "execution_count": null,
   "metadata": {},
   "outputs": [],
   "source": [
    "from matplotlib import pyplot as plt\n",
    "from matplotlib import colors\n",
    "import numpy as np\n",
    "def printMap():\n",
    "  grid_data = np.zeros((mapsize, mapsize))  # Initialize with 0s (grey)\n",
    "\n",
    "  for i in range(mapsize):\n",
    "    for j in range(mapsize):\n",
    "      if grid[i, j][\"Description\"] != \"Unknown\":\n",
    "        grid_data[i, j] = 1  # Set to 1 (red) for known descriptions\n",
    "\n",
    "  cmap = colors.ListedColormap(['gray', 'red']) # Define colormap\n",
    "  plt.figure(figsize=(6, 6))\n",
    "  plt.pcolor(grid_data[::1],cmap=cmap,edgecolors='k', linewidths=3)\n",
    "  plt.title(\"Dungeon Grid\")\n",
    "\n",
    "\n",
    "  # Add a black circle at the current location\n",
    "  plt.scatter(currentLocation[1]+0.5, currentLocation[0]+0.5, s=100, c='black', marker='o')\n",
    "\n",
    "  plt.show()\n"
   ]
  },
  {
   "cell_type": "code",
   "execution_count": null,
   "metadata": {},
   "outputs": [],
   "source": [
    "moveRoom(\"West\")"
   ]
  },
  {
   "cell_type": "code",
   "execution_count": null,
   "metadata": {},
   "outputs": [],
   "source": [
    "import pickle\n",
    "\n",
    "def save():\n",
    "    with open('memory.pkl', 'wb') as file:\n",
    "        pickle.dump(player, file)\n",
    "        pickle.dump(grid, file)\n",
    "        pickle.dump(currentLocation, file)\n",
    "\n",
    "def load():\n",
    "    with open('memory.pkl','rb') as file:\n",
    "        player = pickle.load(file)\n",
    "        grid = pickle.load(file)\n",
    "        currentLocation = pickle.load(file)"
   ]
  },
  {
   "cell_type": "code",
   "execution_count": null,
   "metadata": {},
   "outputs": [],
   "source": [
    "printMap()\n",
    "print(grid[currentLocation[0]][currentLocation[1]])"
   ]
  },
  {
   "cell_type": "code",
   "execution_count": null,
   "metadata": {},
   "outputs": [],
   "source": [
    "context = \"TWith the given scenario, you will be designing a DnD campaign from the start.\"\n",
    "question = \"Can you begin the story?\"\n",
    "response = agent_executor.invoke({\"input\": scenario+context+question})\n",
    "print(f\"Response: {response['output']}\")"
   ]
  }
 ],
 "metadata": {
  "kernelspec": {
   "display_name": "cse534",
   "language": "python",
   "name": "python3"
  },
  "language_info": {
   "codemirror_mode": {
    "name": "ipython",
    "version": 3
   },
   "file_extension": ".py",
   "mimetype": "text/x-python",
   "name": "python",
   "nbconvert_exporter": "python",
   "pygments_lexer": "ipython3",
   "version": "3.11.9"
  }
 },
 "nbformat": 4,
 "nbformat_minor": 2
}
