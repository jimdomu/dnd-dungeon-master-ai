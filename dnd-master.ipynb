{
 "cells": [
  {
   "cell_type": "markdown",
   "metadata": {},
   "source": [
    "This is test file to store chat history and interact in long term"
   ]
  },
  {
   "cell_type": "code",
   "execution_count": 42,
   "metadata": {},
   "outputs": [],
   "source": [
    "import os\n",
    "from dotenv import load_dotenv\n",
    "\n",
    "load_dotenv()\n",
    "\n",
    "assert 'OPENAI_API_KEY' in os.environ, \"You will need to set an OPENAI_API_KEY\"\n",
    "assert 'LANGCHAIN_API_KEY' in os.environ, \"You will need to set an LANGCHAIN_API_KEY\""
   ]
  },
  {
   "cell_type": "code",
   "execution_count": 43,
   "metadata": {},
   "outputs": [],
   "source": [
    "from langchain.agents import create_openai_functions_agent\n",
    "from langchain_openai import ChatOpenAI\n",
    "from langchain_core.tools import tool\n",
    "from langchain.chains import LLMMathChain\n",
    "from langchain.prompts import PromptTemplate\n",
    "from langchain import hub\n",
    "from langchain.agents import AgentExecutor\n",
    "\n",
    "import random"
   ]
  },
  {
   "cell_type": "code",
   "execution_count": 44,
   "metadata": {},
   "outputs": [],
   "source": [
    "llm = ChatOpenAI(temperature = 0, model='gpt-3.5-turbo-1106')\n",
    "prompt = hub.pull(\"hwchase17/openai-functions-agent\")"
   ]
  },
  {
   "cell_type": "code",
   "execution_count": 52,
   "metadata": {},
   "outputs": [],
   "source": [
    "@tool\n",
    "def rolld6() -> int:\n",
    "    \"\"\" Roll a six-sided dice\n",
    "    \"\"\"\n",
    "    rand = random.randint(1, 6)\n",
    "    return rand\n",
    "\n",
    "@tool\n",
    "def rolld10() -> int:\n",
    "    \"\"\" Roll a ten-sided dice\n",
    "    \"\"\"\n",
    "    rand = random.randint(1, 10)\n",
    "    return rand\n",
    "\n",
    "@tool\n",
    "def attack(attacker_power: int, defender_health: int) -> int:\n",
    "    \"\"\" Attacker attacks the defender and check defener health\n",
    "    args:\n",
    "        attacker_power: power of the attack from the attacker\n",
    "        defender_health: health of the defender\n",
    "    \"\"\"\n",
    "    attacker_roll = rolld6({})\n",
    "    attacker_trueap = attacker_power + attacker_roll\n",
    "    defender_health -= attacker_trueap\n",
    "\n",
    "    return defender_health\n",
    "\n",
    "tools = [rolld6, rolld10, attack]"
   ]
  },
  {
   "cell_type": "code",
   "execution_count": 46,
   "metadata": {},
   "outputs": [],
   "source": [
    "# Create an OpenAI Functions agent\n",
    "agent = create_openai_functions_agent(llm, tools, prompt=prompt)\n",
    "# Create an agent executor\n",
    "agent_executor = AgentExecutor.from_agent_and_tools(agent=agent,tools=tools,verbose=True, max_iteration=50, max_execution_time=50, return_intermediate_steps=True)"
   ]
  },
  {
   "cell_type": "code",
   "execution_count": 47,
   "metadata": {},
   "outputs": [
    {
     "name": "stdout",
     "output_type": "stream",
     "text": [
      "\n",
      "\n",
      "\u001b[1m> Entering new AgentExecutor chain...\u001b[0m\n",
      "\u001b[32;1m\u001b[1;3m\n",
      "Invoking: `rolld6` with `{}`\n",
      "\n",
      "\n",
      "\u001b[0m\u001b[36;1m\u001b[1;3m1\u001b[0m\u001b[32;1m\u001b[1;3m\n",
      "Invoking: `rolld6` with `{}`\n",
      "\n",
      "\n",
      "\u001b[0m\u001b[36;1m\u001b[1;3m1\u001b[0m\u001b[32;1m\u001b[1;3mBoth the player and the NPC rolled a 1 on a d6. This means it's a tie!\u001b[0m\n",
      "\n",
      "\u001b[1m> Finished chain.\u001b[0m\n",
      "Question: Player rolls a d6, and NPC rolls a d6. Who wins?\n",
      "Answer: {'input': 'Player rolls a d6, and NPC rolls a d6. Who wins?', 'output': \"Both the player and the NPC rolled a 1 on a d6. This means it's a tie!\", 'intermediate_steps': [(AgentActionMessageLog(tool='rolld6', tool_input={}, log='\\nInvoking: `rolld6` with `{}`\\n\\n\\n', message_log=[AIMessageChunk(content='', additional_kwargs={'function_call': {'arguments': '{}', 'name': 'rolld6'}}, response_metadata={'finish_reason': 'function_call', 'model_name': 'gpt-3.5-turbo-1106', 'system_fingerprint': 'fp_49836e94c4'}, id='run-70448435-53f7-4ade-a08c-9890a2f7e3fb')]), 1), (AgentActionMessageLog(tool='rolld6', tool_input={}, log='\\nInvoking: `rolld6` with `{}`\\n\\n\\n', message_log=[AIMessageChunk(content='', additional_kwargs={'function_call': {'arguments': '{}', 'name': 'rolld6'}}, response_metadata={'finish_reason': 'function_call', 'model_name': 'gpt-3.5-turbo-1106', 'system_fingerprint': 'fp_49836e94c4'}, id='run-44f5c980-bee4-4622-bc0f-c466974491a4')]), 1)]}\n"
     ]
    }
   ],
   "source": [
    "# Test the agent\n",
    "question = \"Player rolls a d6, and NPC rolls a d6. Who wins?\"\n",
    "response = agent_executor.invoke({\"input\": question})\n",
    "print(f\"Question: {question}\")\n",
    "print(f\"Answer: {response}\")"
   ]
  },
  {
   "cell_type": "code",
   "execution_count": 48,
   "metadata": {},
   "outputs": [],
   "source": [
    "from langchain_core.messages import AIMessage, HumanMessage\n",
    "chat_history = [\n",
    "            HumanMessage(content=\"You are a DnD Dungeon Master. You will be responsible for writing a campagin to play a simplified DnD game on. Throughout the game, there are scenarios that requires a skill check, in which the player will roll a d10 by using the roll d10 tool. For easy scenarios, the player succeeds if they roll 3 or higher. For hard scenarios, the player succeeds if they roll 7 or higher. The player might also encounter combat scenarios, where the combat is played out by using the given attack tool\")\n",
    "        ]"
   ]
  },
  {
   "cell_type": "code",
   "execution_count": null,
   "metadata": {},
   "outputs": [
    {
     "ename": "ImportError",
     "evalue": "cannot import name 'clear_output' from 'IPython' (c:\\ProgramData\\anaconda3\\envs\\cse534\\Lib\\site-packages\\IPython\\__init__.py)",
     "output_type": "error",
     "traceback": [
      "\u001b[1;31m---------------------------------------------------------------------------\u001b[0m",
      "\u001b[1;31mImportError\u001b[0m                               Traceback (most recent call last)",
      "Cell \u001b[1;32mIn[54], line 1\u001b[0m\n\u001b[1;32m----> 1\u001b[0m \u001b[38;5;28;01mfrom\u001b[39;00m \u001b[38;5;21;01mIPython\u001b[39;00m \u001b[38;5;28;01mimport\u001b[39;00m clear_output\n\u001b[0;32m      2\u001b[0m playing \u001b[38;5;241m=\u001b[39m \u001b[38;5;28;01mTrue\u001b[39;00m\n\u001b[0;32m      3\u001b[0m \u001b[38;5;28;01mwhile\u001b[39;00m(playing):\n",
      "\u001b[1;31mImportError\u001b[0m: cannot import name 'clear_output' from 'IPython' (c:\\ProgramData\\anaconda3\\envs\\cse534\\Lib\\site-packages\\IPython\\__init__.py)"
     ]
    }
   ],
   "source": [
    "from IPython.display import clear_output\n",
    "playing = True\n",
    "while(playing):\n",
    "    question = input()\n",
    "    clear_output()\n",
    "\n",
    "    if (len(question) < 1):\n",
    "        playing = False\n",
    "\n",
    "    response = agent_executor.invoke({\n",
    "        \"input\" : question,\n",
    "        \"chat_history\": chat_history,\n",
    "    })\n",
    "\n",
    "    print(f\"Question: {question}\")\n",
    "    print(f\"Answer: {response}\")\n",
    "    chat_history.append(HumanMessage(content=question))\n",
    "    chat_history.append(AIMessage(content=response['output']))"
   ]
  }
 ],
 "metadata": {
  "kernelspec": {
   "display_name": "cse534",
   "language": "python",
   "name": "python3"
  },
  "language_info": {
   "codemirror_mode": {
    "name": "ipython",
    "version": 3
   },
   "file_extension": ".py",
   "mimetype": "text/x-python",
   "name": "python",
   "nbconvert_exporter": "python",
   "pygments_lexer": "ipython3",
   "version": "3.11.9"
  }
 },
 "nbformat": 4,
 "nbformat_minor": 2
}
