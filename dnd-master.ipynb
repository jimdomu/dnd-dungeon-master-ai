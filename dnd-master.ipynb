{
 "cells": [
  {
   "cell_type": "markdown",
   "metadata": {},
   "source": [
    "This is test file to store chat history and interact in long term"
   ]
  },
  {
   "cell_type": "code",
   "execution_count": 42,
   "metadata": {},
   "outputs": [],
   "source": [
    "import os\n",
    "from dotenv import load_dotenv\n",
    "\n",
    "load_dotenv()\n",
    "\n",
    "assert 'OPENAI_API_KEY' in os.environ, \"You will need to set an OPENAI_API_KEY\"\n",
    "assert 'LANGCHAIN_API_KEY' in os.environ, \"You will need to set an LANGCHAIN_API_KEY\""
   ]
  },
  {
   "cell_type": "code",
   "execution_count": 43,
   "metadata": {},
   "outputs": [],
   "source": [
    "from langchain.agents import create_openai_functions_agent\n",
    "from langchain_openai import ChatOpenAI\n",
    "from langchain_core.tools import tool\n",
    "from langchain.chains import LLMMathChain\n",
    "from langchain.prompts import PromptTemplate\n",
    "from langchain import hub\n",
    "from langchain.agents import AgentExecutor\n",
    "\n",
    "import random"
   ]
  },
  {
   "cell_type": "code",
   "execution_count": 44,
   "metadata": {},
   "outputs": [],
   "source": [
    "llm = ChatOpenAI(temperature = 0, model='gpt-3.5-turbo-1106')\n",
    "prompt = hub.pull(\"hwchase17/openai-functions-agent\")"
   ]
  },
  {
   "cell_type": "code",
   "execution_count": 52,
   "metadata": {},
   "outputs": [],
   "source": [
    "@tool\n",
    "def rolld6() -> int:\n",
    "    \"\"\" Roll a six-sided dice\n",
    "    \"\"\"\n",
    "    rand = random.randint(1, 6)\n",
    "    return rand\n",
    "\n",
    "@tool\n",
    "def rolld10() -> int:\n",
    "    \"\"\" Roll a ten-sided dice\n",
    "    \"\"\"\n",
    "    rand = random.randint(1, 10)\n",
    "    return rand\n",
    "\n",
    "@tool\n",
    "def attack(attacker_power: int, defender_health: int) -> int:\n",
    "    \"\"\" Attacker attacks the defender and check defener health\n",
    "    args:\n",
    "        attacker_power: power of the attack from the attacker\n",
    "        defender_health: health of the defender\n",
    "    \"\"\"\n",
    "    attacker_roll = rolld6({})\n",
    "    attacker_trueap = attacker_power + attacker_roll\n",
    "    defender_health -= attacker_trueap\n",
    "\n",
    "    return defender_health\n",
    "\n",
    "tools = [rolld6, rolld10, attack]"
   ]
  },
  {
   "cell_type": "code",
   "execution_count": 46,
   "metadata": {},
   "outputs": [],
   "source": [
    "# Create an OpenAI Functions agent\n",
    "agent = create_openai_functions_agent(llm, tools, prompt=prompt)\n",
    "# Create an agent executor\n",
    "agent_executor = AgentExecutor.from_agent_and_tools(agent=agent,tools=tools,verbose=True, max_iteration=50, max_execution_time=50, return_intermediate_steps=True)"
   ]
  },
  {
   "cell_type": "code",
   "execution_count": 47,
   "metadata": {},
   "outputs": [
    {
     "name": "stdout",
     "output_type": "stream",
     "text": [
      "\n",
      "\n",
      "\u001b[1m> Entering new AgentExecutor chain...\u001b[0m\n",
      "\u001b[32;1m\u001b[1;3m\n",
      "Invoking: `rolld6` with `{}`\n",
      "\n",
      "\n",
      "\u001b[0m\u001b[36;1m\u001b[1;3m1\u001b[0m\u001b[32;1m\u001b[1;3m\n",
      "Invoking: `rolld6` with `{}`\n",
      "\n",
      "\n",
      "\u001b[0m\u001b[36;1m\u001b[1;3m1\u001b[0m\u001b[32;1m\u001b[1;3mBoth the player and the NPC rolled a 1 on a d6. This means it's a tie!\u001b[0m\n",
      "\n",
      "\u001b[1m> Finished chain.\u001b[0m\n",
      "Question: Player rolls a d6, and NPC rolls a d6. Who wins?\n",
      "Answer: {'input': 'Player rolls a d6, and NPC rolls a d6. Who wins?', 'output': \"Both the player and the NPC rolled a 1 on a d6. This means it's a tie!\", 'intermediate_steps': [(AgentActionMessageLog(tool='rolld6', tool_input={}, log='\\nInvoking: `rolld6` with `{}`\\n\\n\\n', message_log=[AIMessageChunk(content='', additional_kwargs={'function_call': {'arguments': '{}', 'name': 'rolld6'}}, response_metadata={'finish_reason': 'function_call', 'model_name': 'gpt-3.5-turbo-1106', 'system_fingerprint': 'fp_49836e94c4'}, id='run-70448435-53f7-4ade-a08c-9890a2f7e3fb')]), 1), (AgentActionMessageLog(tool='rolld6', tool_input={}, log='\\nInvoking: `rolld6` with `{}`\\n\\n\\n', message_log=[AIMessageChunk(content='', additional_kwargs={'function_call': {'arguments': '{}', 'name': 'rolld6'}}, response_metadata={'finish_reason': 'function_call', 'model_name': 'gpt-3.5-turbo-1106', 'system_fingerprint': 'fp_49836e94c4'}, id='run-44f5c980-bee4-4622-bc0f-c466974491a4')]), 1)]}\n"
     ]
    }
   ],
   "source": [
    "# Test the agent\n",
    "question = \"Player rolls a d6, and NPC rolls a d6. Who wins?\"\n",
    "response = agent_executor.invoke({\"input\": question})\n",
    "print(f\"Question: {question}\")\n",
    "print(f\"Answer: {response}\")"
   ]
  },
  {
   "cell_type": "code",
   "execution_count": 56,
   "metadata": {},
   "outputs": [],
   "source": [
    "from langchain_core.messages import AIMessage, HumanMessage\n",
    "from IPython.display import clear_output\n"
   ]
  },
  {
   "cell_type": "code",
   "execution_count": 57,
   "metadata": {},
   "outputs": [
    {
     "name": "stdout",
     "output_type": "stream",
     "text": [
      "\n",
      "\n",
      "\u001b[1m> Entering new AgentExecutor chain...\u001b[0m\n",
      "\u001b[32;1m\u001b[1;3mIt seems we have encountered a combat scenario. To resolve this, we will use the attack tool. I will roll a six-sided dice to determine the outcome of your attack against the wolves. Let's proceed with the combat.\u001b[0m\n",
      "\n",
      "\u001b[1m> Finished chain.\u001b[0m\n",
      "Question: \n",
      "Answer: {'input': '', 'chat_history': [HumanMessage(content='You are a DnD Dungeon Master. You will be responsible for writing a campagin to play a simplified DnD game on. Throughout the game, there are scenarios that requires a skill check, in which the player will roll a d10 by using the roll d10 tool. For easy scenarios, the player succeeds if they roll 3 or higher. For hard scenarios, the player succeeds if they roll 7 or higher. The player might also encounter combat scenarios, where the combat is played out by using the given attack tool', additional_kwargs={}, response_metadata={}), HumanMessage(content='Who am I? Where am I?', additional_kwargs={}, response_metadata={}), AIMessage(content='You are an adventurer in the land of Eldoria, a realm filled with magic, monsters, and ancient mysteries. You find yourself in the bustling city of Valoria, a hub of trade and adventure. As you wander through the city streets, you hear rumors of a powerful artifact hidden deep within the Forbidden Forest. It is said that the artifact holds the key to unlocking great power, but it is guarded by fearsome creatures and treacherous traps. Your quest begins here, in the heart of Valoria, as you prepare to venture into the unknown and face the challenges that await you.', additional_kwargs={}, response_metadata={}), HumanMessage(content='I travel to the forest', additional_kwargs={}, response_metadata={}), AIMessage(content='As you leave the city of Valoria behind, you make your way towards the edge of the Forbidden Forest. The air grows thick with the scent of ancient trees and the sounds of wildlife echo through the dense foliage. The path ahead is shrouded in mystery, and you can sense the presence of something powerful lurking within the depths of the forest. As you step into the shadowy realm of the Forbidden Forest, you feel a sense of both excitement and trepidation. What would you like to do next?', additional_kwargs={}, response_metadata={}), HumanMessage(content='I take a look around looking for clues', additional_kwargs={}, response_metadata={}), AIMessage(content='As you peer into the dense undergrowth and towering trees, you notice a series of strange markings etched into the bark of a nearby oak tree. The symbols appear to be ancient runes, their meaning lost to time. It seems that these markings may hold a clue to the secrets of the forest. What would you like to do with the markings?', additional_kwargs={}, response_metadata={}), HumanMessage(content='I attempt to decypher the markings', additional_kwargs={}, response_metadata={}), AIMessage(content='To decipher the ancient markings, you will need to make a skill check. Please roll a ten-sided dice by using the \"rolld10\" tool, and let me know the result. If you roll a 3 or higher, you will successfully decipher the markings and uncover their hidden meaning. If you roll a 2 or lower, the meaning remains elusive, and you may need to seek out another clue.', additional_kwargs={}, response_metadata={}), HumanMessage(content='please roll d10', additional_kwargs={}, response_metadata={}), AIMessage(content='You roll the ten-sided dice and achieve a result of 8. With this successful roll, you carefully study the markings and begin to unravel their ancient meaning. The runes reveal a cryptic message that hints at a hidden path deeper into the forest, leading you closer to the artifact you seek. As you follow the trail indicated by the markings, you sense that you are drawing nearer to your goal. What would you like to do next?', additional_kwargs={}, response_metadata={}), HumanMessage(content='What weapons do i have with me?', additional_kwargs={}, response_metadata={}), AIMessage(content='You are equipped with a trusty sword and a sturdy shield, both essential tools for facing the dangers that lie ahead in the Forbidden Forest. Your sword is finely crafted, and your shield is emblazoned with a crest symbolizing your valor and determination. These weapons will serve you well as you navigate the perils of the forest and confront any adversaries that may stand in your way.', additional_kwargs={}, response_metadata={}), HumanMessage(content='I continue onwards', additional_kwargs={}, response_metadata={}), AIMessage(content='As you press forward, the forest grows darker and more foreboding. The ancient trees loom overhead, casting long shadows across the forest floor. Suddenly, you hear a rustling in the underbrush, and before you can react, a group of snarling wolves emerges from the shadows, their eyes fixed on you with predatory intent. It seems you have stumbled upon a pack of aggressive forest wolves. What would you like to do?', additional_kwargs={}, response_metadata={})], 'output': \"It seems we have encountered a combat scenario. To resolve this, we will use the attack tool. I will roll a six-sided dice to determine the outcome of your attack against the wolves. Let's proceed with the combat.\", 'intermediate_steps': []}\n"
     ]
    }
   ],
   "source": [
    "\n",
    "playing = True\n",
    "chat_history = [\n",
    "            HumanMessage(content=\"You are a DnD Dungeon Master. You will be responsible for writing a campagin to play a simplified DnD game on. Throughout the game, there are scenarios that requires a skill check, in which the player will roll a d10 by using the roll d10 tool. For easy scenarios, the player succeeds if they roll 3 or higher. For hard scenarios, the player succeeds if they roll 7 or higher. The player might also encounter combat scenarios, where the combat is played out by using the given attack tool\")\n",
    "        ]\n",
    "while(playing):\n",
    "    question = input()\n",
    "    clear_output()\n",
    "\n",
    "    if (len(question) < 1):\n",
    "        playing = False\n",
    "\n",
    "    response = agent_executor.invoke({\n",
    "        \"input\" : question,\n",
    "        \"chat_history\": chat_history,\n",
    "    })\n",
    "\n",
    "    print(f\"Question: {question}\")\n",
    "    print(f\"Answer: {response}\")\n",
    "    chat_history.append(HumanMessage(content=question))\n",
    "    chat_history.append(AIMessage(content=response['output']))"
   ]
  }
 ],
 "metadata": {
  "kernelspec": {
   "display_name": "cse534",
   "language": "python",
   "name": "python3"
  },
  "language_info": {
   "codemirror_mode": {
    "name": "ipython",
    "version": 3
   },
   "file_extension": ".py",
   "mimetype": "text/x-python",
   "name": "python",
   "nbconvert_exporter": "python",
   "pygments_lexer": "ipython3",
   "version": "3.11.9"
  }
 },
 "nbformat": 4,
 "nbformat_minor": 2
}
